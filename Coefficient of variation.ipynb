{
 "cells": [
  {
   "cell_type": "code",
   "execution_count": 1,
   "metadata": {},
   "outputs": [],
   "source": [
    "#import os\n",
    "#from osgeo import gdal\n",
    "import numpy as np\n",
    "import math\n",
    "import json\n",
    "import copy\n",
    "#  jr,  judging whether the grid is in the river，is = 1, not = 0\n",
    "# flow_acc, the raster(converted to ASCII code) that shows the accumulated flow to each cell.\n"
   ]
  },
  {
   "cell_type": "code",
   "execution_count": 2,
   "metadata": {},
   "outputs": [],
   "source": [
    "def write_dict(variable,name):\n",
    "    ''' input: variable to write\n",
    "       inout: name, string file name\n",
    "        output: a txt named name.txt\n",
    "    '''\n",
    "    import json\n",
    "    js = json.dumps(variable)   \n",
    "    file = open('ASCII/{}.txt'.format(name), 'w')  \n",
    "    file.write(js)  \n",
    "    file.close()  \n",
    "#write_dict(all_paths_0,'all_paths_0')\n",
    "def read_dict(name):\n",
    "    ''' input: a txt name, filename to read\n",
    "    '''\n",
    "    file = open('ASCII/{}.txt'.format(name), 'r') \n",
    "    js = file.read()\n",
    "    dic = json.loads(js)   \n",
    "    return (dic)\n",
    "    file.close() \n",
    "# file=open('ASCII/all_paths.txt','w') \n",
    "# file.write(str(all_paths)); \n",
    "# file.close() "
   ]
  },
  {
   "cell_type": "markdown",
   "metadata": {},
   "source": [
    "### 1 读取数据"
   ]
  },
  {
   "cell_type": "code",
   "execution_count": 6,
   "metadata": {},
   "outputs": [],
   "source": [
    "all_paths = read_dict('all_paths_0')\n",
    "river_s = all_paths['river_s']\n",
    "bound_s = all_paths['bound_s']"
   ]
  },
  {
   "cell_type": "code",
   "execution_count": 19,
   "metadata": {},
   "outputs": [],
   "source": [
    "fd = np.loadtxt('ASCII/fd.txt',skiprows = 6)\n",
    "am4 = np.loadtxt('ASCII/am4.txt',skiprows = 6)\n",
    "b = np.loadtxt('ASCII/b.txt',skiprows = 6)\n",
    "jr = np.loadtxt('ASCII/jr.txt',skiprows = 6)"
   ]
  },
  {
   "cell_type": "code",
   "execution_count": 8,
   "metadata": {},
   "outputs": [
    {
     "data": {
      "text/plain": [
       "[[[558], [336]], [[557], [337]]]"
      ]
     },
     "execution_count": 8,
     "metadata": {},
     "output_type": "execute_result"
    }
   ],
   "source": [
    "river_s[-1]"
   ]
  },
  {
   "cell_type": "code",
   "execution_count": 9,
   "metadata": {},
   "outputs": [
    {
     "data": {
      "text/plain": [
       "1.0"
      ]
     },
     "execution_count": 9,
     "metadata": {},
     "output_type": "execute_result"
    }
   ],
   "source": [
    "jr[557,337]"
   ]
  },
  {
   "cell_type": "markdown",
   "metadata": {},
   "source": [
    "### 2 初始化值"
   ]
  },
  {
   "cell_type": "code",
   "execution_count": 33,
   "metadata": {},
   "outputs": [],
   "source": [
    "def del_99(arr_tif0,bounds,null_d):\n",
    "    '''初始化空值为-9999\n",
    "    '''\n",
    "    arr_tif = copy.deepcopy(arr_tif0)\n",
    "    for i in bounds: \n",
    "        for j in i: \n",
    "            arr_tif[j] = [null_d]\n",
    "    return arr_tif\n",
    "#del_99(fd,bound_s,0)\n",
    "def ini_tif(arr_tif0,d,jr,bounds,null_d):\n",
    "    '''初始化值为d\n",
    "    '''\n",
    "    arr_tif  = copy.deepcopy(arr_tif0) \n",
    "    [rows, cols] = arr_tif.shape \n",
    "    for i in range(rows - 1): \n",
    "        for j in range(cols-1): \n",
    "            if arr_tif[i, j] != -9999:\n",
    "                if jr[i, j] == 1:\n",
    "                    arr_tif[i, j] = null_d\n",
    "                else:\n",
    "                    arr_tif[i, j] = d\n",
    "    arr_tif1 = copy.deepcopy(arr_tif) \n",
    "    arr_tif2 = del_99(arr_tif1,bound_s,null_d)\n",
    "    return arr_tif2\n",
    "\n",
    "k_arr = ini_tif(fd,0,jr,bound_s,-9999)\n",
    "reg_arr = ini_tif(fd,0,jr,bound_s,-9999)"
   ]
  },
  {
   "cell_type": "code",
   "execution_count": 39,
   "metadata": {},
   "outputs": [],
   "source": [
    "def rows_cols(ind, path_one):\n",
    "    '''对于位置ind，找到所有下游的位置坐标\n",
    "    '''\n",
    "    rows = []\n",
    "    cols = []\n",
    "    if ind < len(path_one) - 2:\n",
    "        while ind < len(path_one) - 2:\n",
    "            rows += path_one[ind+1][0]\n",
    "            cols += path_one[ind+1][1]\n",
    "            ind +=1\n",
    "        return [rows,cols]\n",
    "    else:\n",
    "        print ('ind out of index of path_one')\n",
    "        \n",
    "def k_all(k_arr0,all_paths,reg_arr0):\n",
    "    k_arr = copy.deepcopy(k_arr0)\n",
    "    reg_arr = copy.deepcopy(reg_arr0)\n",
    "    for path in all_paths:\n",
    "#         print(path)\n",
    "#         print(len(path)-2)\n",
    "        for ind in range(0,len(path)-2):\n",
    "            ind_0 = path[ind]\n",
    "            if reg_arr[ind_0][0] ==0:\n",
    "                row_col = rows_cols(ind, path)\n",
    "                k_arr[row_col ] += am4[ind_0][0]/(1-b[row_col ])\n",
    "                reg_arr[ind_0] = 1\n",
    "            else:\n",
    "                break\n",
    "    return k_arr"
   ]
  },
  {
   "cell_type": "code",
   "execution_count": 40,
   "metadata": {},
   "outputs": [],
   "source": [
    "k_arr = k_all(k_arr,river_s,reg_arr)"
   ]
  },
  {
   "cell_type": "code",
   "execution_count": 41,
   "metadata": {},
   "outputs": [],
   "source": [
    "np.savetxt('ASCII/k_arr.txt',k_arr,fmt='%0.6f') # 没有前6行"
   ]
  },
  {
   "cell_type": "code",
   "execution_count": 42,
   "metadata": {},
   "outputs": [],
   "source": [
    "def add_begin(name):\n",
    "    with open('ASCII/begin.txt', 'r+') as f:\n",
    "        content = f.read() \n",
    "        with open('ASCII/{}.txt'.format(name), 'r+') as f:\n",
    "            content0 = f.read() \n",
    "            f.seek(0, 0)\n",
    "            f.write(content + '\\n' + content0)\n",
    "            f.close()\n",
    "        f.close()"
   ]
  },
  {
   "cell_type": "code",
   "execution_count": 43,
   "metadata": {},
   "outputs": [],
   "source": [
    "add_begin('k_arr')"
   ]
  },
  {
   "cell_type": "code",
   "execution_count": null,
   "metadata": {},
   "outputs": [],
   "source": []
  },
  {
   "cell_type": "code",
   "execution_count": null,
   "metadata": {},
   "outputs": [],
   "source": [
    "def pow_all2(pow_arr0,p,slope,all_paths,reg_arr0):\n",
    "    pow_arr = copy.deepcopy(pow_arr0)\n",
    "    reg_arr = copy.deepcopy(reg_arr0)\n",
    "    for path in all_paths:\n",
    "#         print(path)\n",
    "#         print(len(path)-2)\n",
    "        for ind in range(0,len(path)-2):\n",
    "            ind_0 = path[ind]\n",
    "            if reg_arr[ind_0][0] ==0:\n",
    "                pl_s = pl_slope2(p,ind, path,slope)\n",
    "               # print(pl_s)\n",
    "                row_col = rows_cols(ind, path)\n",
    "               # print(row_col)\n",
    "                pow_arr[row_col] += pl_s \n",
    "                #print(pow_arr[row_col])\n",
    "                reg_arr[ind_0] = 1\n",
    "            else:\n",
    "                break\n",
    "    return pow_arr"
   ]
  },
  {
   "cell_type": "markdown",
   "metadata": {},
   "source": [
    "## 1 读取txt到数组"
   ]
  },
  {
   "cell_type": "code",
   "execution_count": 9,
   "metadata": {},
   "outputs": [],
   "source": [
    "b = np.loadtxt('ASCII/b.txt',skiprows = 6)\n",
    "p = np.loadtxt('ASCII/p.txt',skiprows = 6)\n",
    "fd = np.loadtxt('ASCII/fd.txt',skiprows = 6)\n",
    "jr = np.loadtxt('ASCII/jr.txt',skiprows = 6)\n",
    "slope = np.loadtxt('ASCII/slope.txt',skiprows = 6)\n",
    "flow_acc = np.loadtxt('ASCII/flow_acc.txt',skiprows = 6)\n",
    "am4 = np.loadtxt('ASCII/am4.txt',skiprows = 6)"
   ]
  },
  {
   "cell_type": "code",
   "execution_count": 3,
   "metadata": {},
   "outputs": [
    {
     "data": {
      "text/plain": [
       "(569, 538)"
      ]
     },
     "execution_count": 3,
     "metadata": {},
     "output_type": "execute_result"
    }
   ],
   "source": [
    "flow_acc.shape "
   ]
  },
  {
   "cell_type": "markdown",
   "metadata": {},
   "source": [
    "## 1.1 例子遍历数组"
   ]
  },
  {
   "cell_type": "raw",
   "metadata": {},
   "source": [
    "[rows, cols] = num.shape \n",
    "for i in range(rows - 1): \n",
    "    for j in range(cols-1): \n",
    "        print(num[i, j])"
   ]
  },
  {
   "cell_type": "markdown",
   "metadata": {},
   "source": [
    "## 2 得到起点索引列表"
   ]
  },
  {
   "cell_type": "code",
   "execution_count": 4,
   "metadata": {},
   "outputs": [],
   "source": [
    "def origin_list(flow_acc, jr):\n",
    "    '''\n",
    "   output: A list of all starting points for all flow paths\n",
    "    '''\n",
    "    list_0 = []\n",
    "    [rows, cols] = flow_acc.shape \n",
    "    for i in range(rows - 1): \n",
    "        for j in range(cols-1): \n",
    "            if flow_acc[i,j] == 0 and jr[i, j] == 0: #  jr[i, j] == 0 起点处于非河道\n",
    "                 list_0.append([[i],[j]])\n",
    "    return list_0"
   ]
  },
  {
   "cell_type": "code",
   "execution_count": 5,
   "metadata": {},
   "outputs": [],
   "source": [
    "ori_list = origin_list(flow_acc,jr) # A list of all starting points for all flow paths"
   ]
  },
  {
   "cell_type": "code",
   "execution_count": 6,
   "metadata": {},
   "outputs": [
    {
     "data": {
      "text/plain": [
       "[[5], [84]]"
      ]
     },
     "execution_count": 6,
     "metadata": {},
     "output_type": "execute_result"
    }
   ],
   "source": [
    "ori_list[0]"
   ]
  },
  {
   "cell_type": "code",
   "execution_count": 7,
   "metadata": {},
   "outputs": [
    {
     "data": {
      "text/plain": [
       "array([8.])"
      ]
     },
     "execution_count": 7,
     "metadata": {},
     "output_type": "execute_result"
    }
   ],
   "source": [
    "fd[ori_list[0]]"
   ]
  },
  {
   "cell_type": "code",
   "execution_count": 8,
   "metadata": {},
   "outputs": [
    {
     "data": {
      "text/plain": [
       "59914"
      ]
     },
     "execution_count": 8,
     "metadata": {},
     "output_type": "execute_result"
    }
   ],
   "source": [
    "len(ori_list)"
   ]
  },
  {
   "cell_type": "markdown",
   "metadata": {},
   "source": [
    "## 3 起点路径列表"
   ]
  },
  {
   "cell_type": "code",
   "execution_count": 143,
   "metadata": {},
   "outputs": [],
   "source": [
    "def flow_path(ori, jr,fd):\n",
    "    '''\n",
    "   output:  lists of all path points for all flow paths\n",
    "    '''\n",
    "    list1 = []\n",
    "    row = ori[0][0]\n",
    "    col = ori[1][0]\n",
    "    while jr[row,col] != 1 and fd[row,col] != -9999:\n",
    "        if [row,col] not in list1:\n",
    "            list1.append([[row],[col]])\n",
    "            if fd[row,col] == 1:\n",
    "                col += 1\n",
    "            elif fd[row,col] == 2:\n",
    "                row += 1\n",
    "                col += 1\n",
    "            elif fd[row,col] == 4:\n",
    "                row += 1\n",
    "            elif fd[row,col] == 8:\n",
    "                row += 1\n",
    "                col -= 1\n",
    "            elif fd[row,col] == 16:\n",
    "                col -= 1\n",
    "            elif fd[row,col] == 32:\n",
    "                row -= 1\n",
    "                col -= 1\n",
    "            elif fd[row,col] == 64:\n",
    "                row -= 1\n",
    "            elif fd[row,col] == 128:\n",
    "                row -= 1\n",
    "                col += 1\n",
    "    list1.append([[row],[col]]) # 包含受内水体和流域出口\n",
    "    return list1\n",
    "\n",
    "def river_paths(ori_list, jr,fd):\n",
    "    '''\n",
    "   output:  lists of all path points for all flow paths\n",
    "    '''\n",
    "    list0 = []\n",
    "    for ori in ori_list:\n",
    "        list1 = flow_path(ori, jr,fd)\n",
    "        if jr[list1[-1]][0] == 1:\n",
    "            list0.append(list1)\n",
    "    return list0\n",
    "def bound_paths(ori_list, jr,fd):\n",
    "    '''\n",
    "   output:  lists of all path points for all flow paths\n",
    "    '''\n",
    "    list0 = []\n",
    "    for ori in ori_list:\n",
    "        list1 = flow_path(ori, jr,fd)\n",
    "        if jr[list1[-1]][0] == -9999:\n",
    "            list0.append(list1)\n",
    "    return list0"
   ]
  },
  {
   "cell_type": "code",
   "execution_count": 102,
   "metadata": {},
   "outputs": [],
   "source": [
    "river_s = river_paths(ori_list, jr,fd)"
   ]
  },
  {
   "cell_type": "code",
   "execution_count": 103,
   "metadata": {},
   "outputs": [],
   "source": [
    "bound_s = bound_paths(ori_list, jr,fd)"
   ]
  },
  {
   "cell_type": "code",
   "execution_count": 104,
   "metadata": {},
   "outputs": [
    {
     "data": {
      "text/plain": [
       "53172"
      ]
     },
     "execution_count": 104,
     "metadata": {},
     "output_type": "execute_result"
    }
   ],
   "source": [
    "len(river_s)"
   ]
  },
  {
   "cell_type": "code",
   "execution_count": 105,
   "metadata": {},
   "outputs": [
    {
     "data": {
      "text/plain": [
       "6642"
      ]
     },
     "execution_count": 105,
     "metadata": {},
     "output_type": "execute_result"
    }
   ],
   "source": [
    "len(bound_s)"
   ]
  },
  {
   "cell_type": "code",
   "execution_count": 107,
   "metadata": {},
   "outputs": [
    {
     "data": {
      "text/plain": [
       "[[[556], [335]], [[555], [336]], [[555], [337]]]"
      ]
     },
     "execution_count": 107,
     "metadata": {},
     "output_type": "execute_result"
    }
   ],
   "source": [
    "river_s[-4]"
   ]
  },
  {
   "cell_type": "code",
   "execution_count": 109,
   "metadata": {},
   "outputs": [
    {
     "data": {
      "text/plain": [
       "1.0"
      ]
     },
     "execution_count": 109,
     "metadata": {},
     "output_type": "execute_result"
    }
   ],
   "source": [
    "jr[river_s[-4][-1]][0]"
   ]
  },
  {
   "cell_type": "code",
   "execution_count": 110,
   "metadata": {},
   "outputs": [],
   "source": [
    "all_paths_0 = {'river_s': river_s, 'bound_s': bound_s}"
   ]
  },
  {
   "cell_type": "code",
   "execution_count": 7,
   "metadata": {},
   "outputs": [],
   "source": [
    "def write_dict(variable,name):\n",
    "    ''' input: variable to write\n",
    "       inout: name, string file name\n",
    "        output: a txt named name.txt\n",
    "    '''\n",
    "    import json\n",
    "    js = json.dumps(variable)   \n",
    "    file = open('ASCII/{}.txt'.format(name), 'w')  \n",
    "    file.write(js)  \n",
    "    file.close()  \n",
    "#write_dict(all_paths_0,'all_paths_0')\n",
    "def read_dict(name):\n",
    "    ''' input: a txt name, filename to read\n",
    "    '''\n",
    "    file = open('ASCII/{}.txt'.format(name), 'r') \n",
    "    js = file.read()\n",
    "    dic = json.loads(js)   \n",
    "    return (dic)\n",
    "    file.close() \n",
    "# file=open('ASCII/all_paths.txt','w') \n",
    "# file.write(str(all_paths)); \n",
    "# file.close() "
   ]
  },
  {
   "cell_type": "code",
   "execution_count": 112,
   "metadata": {},
   "outputs": [],
   "source": [
    "write_dict(all_paths_0,'all_paths_0')"
   ]
  },
  {
   "cell_type": "code",
   "execution_count": 8,
   "metadata": {},
   "outputs": [],
   "source": [
    "all_paths = read_dict('all_paths_0')"
   ]
  },
  {
   "cell_type": "code",
   "execution_count": 9,
   "metadata": {},
   "outputs": [],
   "source": [
    "river_s = all_paths['river_s']"
   ]
  },
  {
   "cell_type": "code",
   "execution_count": 10,
   "metadata": {},
   "outputs": [],
   "source": [
    "bound_s = all_paths['bound_s']"
   ]
  },
  {
   "cell_type": "code",
   "execution_count": 116,
   "metadata": {},
   "outputs": [
    {
     "data": {
      "text/plain": [
       "[[[556], [335]], [[555], [336]], [[555], [337]]]"
      ]
     },
     "execution_count": 116,
     "metadata": {},
     "output_type": "execute_result"
    }
   ],
   "source": [
    "river_s[-4]"
   ]
  },
  {
   "cell_type": "markdown",
   "metadata": {},
   "source": [
    "## 4 计算动力作用\n",
    "(1) 初始化计算栅格非空值为1\n",
    "\n",
    "(2) 计算1+坡度的3次幂\n",
    "\n",
    "(3) 计算L\n",
    "\n",
    "(4) 计算pl\n",
    "\n",
    "(5) 计算最终结果"
   ]
  },
  {
   "cell_type": "code",
   "execution_count": 150,
   "metadata": {},
   "outputs": [],
   "source": [
    "def del_99(arr_tif0,bounds,null_d):\n",
    "    '''初始化空值为-9999\n",
    "    '''\n",
    "    arr_tif = copy.deepcopy(arr_tif0)\n",
    "    for i in bounds: \n",
    "        for j in i: \n",
    "            arr_tif[j] = [null_d]\n",
    "    return arr_tif\n",
    "#del_99(fd,bound_s,0)\n",
    "def ini_tif(arr_tif0,d,jr,bounds,null_d):\n",
    "    '''初始化值为d\n",
    "    '''\n",
    "    arr_tif  = copy.deepcopy(arr_tif0) \n",
    "    [rows, cols] = arr_tif.shape \n",
    "    for i in range(rows - 1): \n",
    "        for j in range(cols-1): \n",
    "            if arr_tif[i, j] != -9999:\n",
    "                if jr[i, j] == 1:\n",
    "                    arr_tif[i, j] = null_d\n",
    "                else:\n",
    "                    arr_tif[i, j] = d\n",
    "    arr_tif1 = copy.deepcopy(arr_tif) \n",
    "    arr_tif2 = del_99(arr_tif1,bound_s,null_d)\n",
    "    return arr_tif2\n",
    "\n",
    "pow_arr = ini_tif(fd,1,jr,bound_s,-9999)\n",
    "reg_arr = ini_tif(fd,0,jr,bound_s,-9999)"
   ]
  },
  {
   "cell_type": "code",
   "execution_count": 208,
   "metadata": {},
   "outputs": [
    {
     "data": {
      "text/plain": [
       "[[[556], [335]], [[555], [336]], [[555], [337]]]"
      ]
     },
     "execution_count": 208,
     "metadata": {},
     "output_type": "execute_result"
    }
   ],
   "source": [
    "river_s[-4]"
   ]
  },
  {
   "cell_type": "code",
   "execution_count": 153,
   "metadata": {},
   "outputs": [
    {
     "data": {
      "text/plain": [
       "1.0"
      ]
     },
     "execution_count": 153,
     "metadata": {},
     "output_type": "execute_result"
    }
   ],
   "source": [
    "pow_arr[555,336]"
   ]
  },
  {
   "cell_type": "code",
   "execution_count": 154,
   "metadata": {},
   "outputs": [
    {
     "data": {
      "text/plain": [
       "0.0"
      ]
     },
     "execution_count": 154,
     "metadata": {},
     "output_type": "execute_result"
    }
   ],
   "source": [
    "reg_arr[555,336]"
   ]
  },
  {
   "cell_type": "code",
   "execution_count": 155,
   "metadata": {},
   "outputs": [],
   "source": [
    "def distance_list(ind, path_one):\n",
    "    '''input: ind,某河流路径的某索引位置\n",
    "      input: path_0, 某河流路径的位置列表\n",
    "      output: ind下游的所有距离\n",
    "    '''\n",
    "    list0 = []\n",
    "    if ind < len(path_one) - 2:\n",
    "        d = 0\n",
    "        while ind < len(path_one) - 2:\n",
    "            if abs(path_one[ind][0][0]- path_one[ind+1][0][0]) + abs(path_one[ind][1][0]- path_one[ind+1][1][0]) == 2:\n",
    "                d += math.sqrt(2)\n",
    "            else:\n",
    "                d += 1\n",
    "            list0.append(d)\n",
    "            ind +=1\n",
    "        return list0\n",
    "    else:\n",
    "        print ('ind out of index of path_one')\n",
    "#distance_list(1, path_one)\n",
    "\n",
    "def rows_cols(ind, path_one):\n",
    "    rows = []\n",
    "    cols = []\n",
    "    if ind < len(path_one) - 2:\n",
    "        while ind < len(path_one) - 2:\n",
    "            rows += path_one[ind+1][0]\n",
    "            cols += path_one[ind+1][1]\n",
    "            ind +=1\n",
    "        return [rows,cols]\n",
    "    else:\n",
    "        print ('ind out of index of path_one')\n",
    "        \n",
    "def pl_list(p,ind, path_one):\n",
    "    list0 = distance_list(ind, path_one)\n",
    "    list1 = [pow(p,i) for i in list0]\n",
    "    return list1\n",
    "def pl_slope(p,ind, path_one,slope):\n",
    "    row = path_one[ind][0][0]\n",
    "    col = path_one[ind][1][0]\n",
    "    theta = slope[row,col]\n",
    "    list0 = distance_list(ind, path_one)\n",
    "    list1 = [pow(p,i)*(1+theta**0.3) for i in list0]\n",
    "    return list1\n",
    "def pl_slope2(p,ind, path_one,slope):\n",
    "    row = path_one[ind][0][0]\n",
    "    col = path_one[ind][1][0]\n",
    "    theta = slope[row,col]\n",
    "    list0 = distance_list(ind, path_one)\n",
    "    list1 = [pow(p,i)*(1+0.1*theta**0.3) for i in list0]\n",
    "    return list1\n",
    "###[[[565], [297]], [[565], [296]], [[566], [296]]]\n",
    "\n",
    "def pow_all1(pow_arr0,p,slope,all_paths,reg_arr0):\n",
    "    pow_arr = copy.deepcopy(pow_arr0)\n",
    "    reg_arr = copy.deepcopy(reg_arr0)\n",
    "    for path in all_paths:\n",
    "#         print(path)\n",
    "#         print(len(path)-2)\n",
    "        for ind in range(0,len(path)-2):\n",
    "            ind_0 = path[ind]\n",
    "            if reg_arr[ind_0][0] ==0:\n",
    "                pl_s = pl_slope(p,ind, path,slope)\n",
    "               # print(pl_s)\n",
    "                row_col = rows_cols(ind, path)\n",
    "               # print(row_col)\n",
    "                pow_arr[row_col] += pl_s \n",
    "                #print(pow_arr[row_col])\n",
    "                reg_arr[ind_0] = 1\n",
    "            else:\n",
    "                break\n",
    "    return pow_arr\n",
    "#pow_result = pow_all(pow_arr,p,slope,all_paths)\n",
    "def pow_all2(pow_arr0,p,slope,all_paths,reg_arr0):\n",
    "    pow_arr = copy.deepcopy(pow_arr0)\n",
    "    reg_arr = copy.deepcopy(reg_arr0)\n",
    "    for path in all_paths:\n",
    "#         print(path)\n",
    "#         print(len(path)-2)\n",
    "        for ind in range(0,len(path)-2):\n",
    "            ind_0 = path[ind]\n",
    "            if reg_arr[ind_0][0] ==0:\n",
    "                pl_s = pl_slope2(p,ind, path,slope)\n",
    "               # print(pl_s)\n",
    "                row_col = rows_cols(ind, path)\n",
    "               # print(row_col)\n",
    "                pow_arr[row_col] += pl_s \n",
    "                #print(pow_arr[row_col])\n",
    "                reg_arr[ind_0] = 1\n",
    "            else:\n",
    "                break\n",
    "    return pow_arr"
   ]
  },
  {
   "cell_type": "code",
   "execution_count": 156,
   "metadata": {},
   "outputs": [],
   "source": [
    "pow_result1 = pow_all1(pow_arr,0.5,slope,river_s,reg_arr) # 约3-8min"
   ]
  },
  {
   "cell_type": "code",
   "execution_count": 157,
   "metadata": {},
   "outputs": [],
   "source": [
    "pow_result2 = pow_all2(pow_arr,0.5,slope,river_s,reg_arr) # 约3-8min"
   ]
  },
  {
   "cell_type": "code",
   "execution_count": 158,
   "metadata": {},
   "outputs": [],
   "source": [
    "np.savetxt('ASCII/pow_all_1.txt',pow_result1,fmt='%0.6f') # 没有前6行"
   ]
  },
  {
   "cell_type": "code",
   "execution_count": 159,
   "metadata": {},
   "outputs": [],
   "source": [
    "np.savetxt('ASCII/pow_all_2.txt',pow_result2,fmt='%0.6f') # 没有前6行"
   ]
  },
  {
   "cell_type": "code",
   "execution_count": 160,
   "metadata": {},
   "outputs": [],
   "source": [
    "def add_begin(name):\n",
    "    with open('ASCII/begin.txt', 'r+') as f:\n",
    "        content = f.read() \n",
    "        with open('ASCII/{}.txt'.format(name), 'r+') as f:\n",
    "            content0 = f.read() \n",
    "            f.seek(0, 0)\n",
    "            f.write(content + '\\n' + content0)\n",
    "            f.close()\n",
    "        f.close()"
   ]
  },
  {
   "cell_type": "code",
   "execution_count": 161,
   "metadata": {},
   "outputs": [],
   "source": [
    "add_begin('pow_all_1')"
   ]
  },
  {
   "cell_type": "code",
   "execution_count": 162,
   "metadata": {},
   "outputs": [],
   "source": [
    "add_begin('pow_all_2')"
   ]
  },
  {
   "cell_type": "code",
   "execution_count": 163,
   "metadata": {},
   "outputs": [
    {
     "data": {
      "text/plain": [
       "3.9340186932192456"
      ]
     },
     "execution_count": 163,
     "metadata": {},
     "output_type": "execute_result"
    }
   ],
   "source": [
    "pow_result1[555,336]"
   ]
  },
  {
   "cell_type": "code",
   "execution_count": 164,
   "metadata": {},
   "outputs": [
    {
     "data": {
      "text/plain": [
       "2.306094673843758"
      ]
     },
     "execution_count": 164,
     "metadata": {},
     "output_type": "execute_result"
    }
   ],
   "source": [
    "pow_result2[555,336]"
   ]
  },
  {
   "cell_type": "markdown",
   "metadata": {},
   "source": [
    "### test1 数学公式测试"
   ]
  },
  {
   "cell_type": "code",
   "execution_count": 2,
   "metadata": {},
   "outputs": [
    {
     "data": {
      "text/plain": [
       "8"
      ]
     },
     "execution_count": 2,
     "metadata": {},
     "output_type": "execute_result"
    }
   ],
   "source": [
    "pow(2,3)"
   ]
  },
  {
   "cell_type": "code",
   "execution_count": 48,
   "metadata": {},
   "outputs": [
    {
     "data": {
      "text/plain": [
       "8"
      ]
     },
     "execution_count": 48,
     "metadata": {},
     "output_type": "execute_result"
    }
   ],
   "source": [
    "2**3"
   ]
  },
  {
   "cell_type": "code",
   "execution_count": 25,
   "metadata": {},
   "outputs": [
    {
     "data": {
      "text/plain": [
       "1.4142135623730951"
      ]
     },
     "execution_count": 25,
     "metadata": {},
     "output_type": "execute_result"
    }
   ],
   "source": [
    "math.sqrt(2)"
   ]
  },
  {
   "cell_type": "code",
   "execution_count": 22,
   "metadata": {},
   "outputs": [
    {
     "data": {
      "text/plain": [
       "2"
      ]
     },
     "execution_count": 22,
     "metadata": {},
     "output_type": "execute_result"
    }
   ],
   "source": [
    "abs(-2)"
   ]
  },
  {
   "cell_type": "markdown",
   "metadata": {},
   "source": [
    "### test2 河流下游距离计算"
   ]
  },
  {
   "cell_type": "code",
   "execution_count": 20,
   "metadata": {},
   "outputs": [
    {
     "data": {
      "text/plain": [
       "[[[5], [83]], [[6], [82]], [[7], [81]], [[7], [80]]]"
      ]
     },
     "execution_count": 20,
     "metadata": {},
     "output_type": "execute_result"
    }
   ],
   "source": [
    "path_one = all_paths[0] # [[5, 83], [6, 82], [7, 81], [7, 80]]\n",
    "all_paths[0]"
   ]
  },
  {
   "cell_type": "code",
   "execution_count": 19,
   "metadata": {},
   "outputs": [],
   "source": [
    "def distance_list(ind, path_one):\n",
    "    '''input: ind,某河流路径的某索引位置\n",
    "      input: path_0, 某河流路径的位置列表\n",
    "      output: ind下游的所有距离\n",
    "    '''\n",
    "    list0 = []\n",
    "    if ind < len(path_one) - 2:\n",
    "        d = 0\n",
    "        while ind < len(path_one) - 2:\n",
    "            if abs(path_one[ind][0][0]- path_one[ind+1][0][0]) + abs(path_one[ind][1][0]- path_one[ind+1][1][0]) == 2:\n",
    "                d += math.sqrt(2)\n",
    "            else:\n",
    "                d += 1\n",
    "            list0.append(d)\n",
    "            ind +=1\n",
    "        return list0\n",
    "    else:\n",
    "        print ('ind out of index of path_one')\n",
    "#distance_list(1, path_one)\n",
    "\n",
    "def rows_cols(ind, path_one):\n",
    "    rows = []\n",
    "    cols = []\n",
    "    if ind < len(path_one) - 2:\n",
    "        while ind < len(path_one) - 2:\n",
    "            rows += path_one[ind+1][0]\n",
    "            cols += path_one[ind+1][1]\n",
    "            ind +=1\n",
    "        return [rows,cols]\n",
    "    else:\n",
    "        print ('ind out of index of path_one')\n",
    "        \n",
    "def pl_list(p,ind, path_one):\n",
    "    list0 = distance_list(ind, path_one)\n",
    "    list1 = [pow(p,i) for i in list0]\n",
    "    return list1\n",
    "def pl_slope(p,ind, path_one,slope):\n",
    "    row = path_one[ind][0][0]\n",
    "    col = path_one[ind][1][0]\n",
    "    theta = slope[row,col]\n",
    "    list0 = distance_list(ind, path_one)\n",
    "    list1 = [pow(p,i)*(1+theta**0.3) for i in list0]\n",
    "    return list1\n",
    "\n",
    "###[[[565], [297]], [[565], [296]], [[566], [296]]]\n",
    "\n",
    "def pow_all(pow_arr0,p,slope,all_paths):\n",
    "    pow_arr = copy.deepcopy(pow_arr0)\n",
    "    for path in all_paths:\n",
    "#         print(path)\n",
    "#         print(len(path)-2)\n",
    "        for ind in range(0,len(path)-2):\n",
    "            pl_s = pl_slope(p,ind, path,slope)\n",
    "           # print(pl_s)\n",
    "            row_col = rows_cols(ind, path)\n",
    "           # print(row_col)\n",
    "            pow_arr[row_col] += pl_s \n",
    "            #print(pow_arr[row_col])\n",
    "    return pow_arr\n",
    "#pow_result = pow_all(pow_arr,p,slope,all_paths)"
   ]
  },
  {
   "cell_type": "code",
   "execution_count": 28,
   "metadata": {},
   "outputs": [
    {
     "data": {
      "text/plain": [
       "[[[[5], [83]], [[6], [82]], [[7], [81]], [[7], [80]]],\n",
       " [[[5], [84]], [[6], [83]], [[7], [82]], [[7], [81]], [[7], [80]]]]"
      ]
     },
     "execution_count": 28,
     "metadata": {},
     "output_type": "execute_result"
    }
   ],
   "source": [
    "all_paths[0:2]"
   ]
  },
  {
   "cell_type": "code",
   "execution_count": 22,
   "metadata": {},
   "outputs": [
    {
     "data": {
      "text/plain": [
       "[1.4142135623730951, 2.8284271247461903]"
      ]
     },
     "execution_count": 22,
     "metadata": {},
     "output_type": "execute_result"
    }
   ],
   "source": [
    "distance_list(0, path_one)"
   ]
  },
  {
   "cell_type": "code",
   "execution_count": 23,
   "metadata": {},
   "outputs": [
    {
     "data": {
      "text/plain": [
       "[[6, 7], [82, 81]]"
      ]
     },
     "execution_count": 23,
     "metadata": {},
     "output_type": "execute_result"
    }
   ],
   "source": [
    "rows_cols(0, path_one)"
   ]
  },
  {
   "cell_type": "code",
   "execution_count": 24,
   "metadata": {},
   "outputs": [
    {
     "data": {
      "text/plain": [
       "[0.37521422724648174, 0.14078571632817444]"
      ]
     },
     "execution_count": 24,
     "metadata": {},
     "output_type": "execute_result"
    }
   ],
   "source": [
    "pl_list(0.5,0, path_one)"
   ]
  },
  {
   "cell_type": "code",
   "execution_count": 25,
   "metadata": {},
   "outputs": [
    {
     "data": {
      "text/plain": [
       "[1.1455293720580795, 0.42981891812491974]"
      ]
     },
     "execution_count": 25,
     "metadata": {},
     "output_type": "execute_result"
    }
   ],
   "source": [
    "pl_slope(0.5,0, path_one,slope)"
   ]
  },
  {
   "cell_type": "markdown",
   "metadata": {},
   "source": [
    "### test3 array 赋值"
   ]
  },
  {
   "cell_type": "code",
   "execution_count": 132,
   "metadata": {},
   "outputs": [
    {
     "name": "stdout",
     "output_type": "stream",
     "text": [
      "[[ 0  1  2  3  4  5  6  7  8]\n",
      " [ 9 10 11 12 13 14 15 16 17]\n",
      " [18 19 20 21 22 23 24 25 26]\n",
      " [27 28 29 30 31 32 33 34 35]\n",
      " [36 37 38 39 40 41 42 43 44]\n",
      " [45 46 47 48 49 50 51 52 53]\n",
      " [54 55 56 57 58 59 60 61 62]]\n",
      "[ 9 48 55 20]\n",
      "42\n",
      "[ 9 48 55 20]\n"
     ]
    }
   ],
   "source": [
    "arr = np.arange(63).reshape((7,9))\n",
    "print(arr)\n",
    "#ss = [[1,0], [5, 3]]\n",
    "#print(arr[ss])\n",
    "print(arr[[1, 5, 6, 2], [0, 3, 1, 2]])\n",
    "#arr[[1, 5, 6, 2], [0, 3, 1, 2]] += [0,1,2,3]\n",
    "#arr[[1, 5, 6, 2], [0, 3, 1, 2]] *= [0,1,2,3]\n",
    "#print(arr[[1,0], [5, 3]])\n",
    "print(arr[[1,0], [5, 3]].prod())\n",
    "print(arr[[1, 5, 6, 2], [0, 3, 1, 2]]) # 打印arr[1, 0]、arr[5, 3]，arr[7, 1]和arr[2, 2]"
   ]
  },
  {
   "cell_type": "code",
   "execution_count": 12,
   "metadata": {},
   "outputs": [
    {
     "name": "stdout",
     "output_type": "stream",
     "text": [
      "[[ 0  1  2  3]\n",
      " [ 4  5  6  7]\n",
      " [ 8  9 10 11]]\n"
     ]
    }
   ],
   "source": [
    "arr = np.arange(12).reshape((3,4))\n",
    "print(arr)"
   ]
  },
  {
   "cell_type": "code",
   "execution_count": 17,
   "metadata": {},
   "outputs": [
    {
     "name": "stdout",
     "output_type": "stream",
     "text": [
      "[ 4 11]\n",
      "[-0.33333333 -0.1       ]\n"
     ]
    }
   ],
   "source": [
    "print(arr[[1, 2], [0, 3]])\n",
    "print(1/(arr[[1, 2], [0, 3]]*(-1)+1))"
   ]
  },
  {
   "cell_type": "markdown",
   "metadata": {},
   "source": [
    "## 5 计算阻力作用"
   ]
  },
  {
   "cell_type": "markdown",
   "metadata": {},
   "source": [
    "### (1) 初始化判断栅格"
   ]
  },
  {
   "cell_type": "code",
   "execution_count": 182,
   "metadata": {},
   "outputs": [],
   "source": [
    "def del_99(arr_tif0,bounds,null_d):\n",
    "    '''初始化空值为-9999\n",
    "    '''\n",
    "    arr_tif = copy.deepcopy(arr_tif0)\n",
    "    for i in bounds: \n",
    "        for j in i: \n",
    "            arr_tif[j] = [null_d]\n",
    "    return arr_tif\n",
    "#del_99(fd,bound_s,0)\n",
    "def ini_tif(arr_tif0,d,jr,bounds,null_d):\n",
    "    '''初始化值为d\n",
    "    '''\n",
    "    arr_tif  = copy.deepcopy(arr_tif0) \n",
    "    [rows, cols] = arr_tif.shape \n",
    "    for i in range(rows - 1): \n",
    "        for j in range(cols-1): \n",
    "            if arr_tif[i, j] != -9999:\n",
    "                if jr[i, j] == 1:\n",
    "                    arr_tif[i, j] = null_d\n",
    "                else:\n",
    "                    arr_tif[i, j] = d\n",
    "    arr_tif1 = copy.deepcopy(arr_tif) \n",
    "    arr_tif2 = del_99(arr_tif1,bound_s,null_d)\n",
    "    return arr_tif2\n",
    "\n",
    "reg_arr = ini_tif(fd,0,jr,bound_s,-9999) # if value == 0,需要计算\n",
    "bv_arr_1 = ini_tif(fd,1,jr,bound_s,-9999)\n",
    "bv_arr = ini_tif(fd,1,jr,bound_s,-9999)"
   ]
  },
  {
   "cell_type": "code",
   "execution_count": 168,
   "metadata": {},
   "outputs": [
    {
     "data": {
      "text/plain": [
       "1.0"
      ]
     },
     "execution_count": 168,
     "metadata": {},
     "output_type": "execute_result"
    }
   ],
   "source": [
    "bv_arr[555,336]"
   ]
  },
  {
   "cell_type": "code",
   "execution_count": 169,
   "metadata": {},
   "outputs": [
    {
     "data": {
      "text/plain": [
       "0.0"
      ]
     },
     "execution_count": 169,
     "metadata": {},
     "output_type": "execute_result"
    }
   ],
   "source": [
    "reg_arr[555,336]"
   ]
  },
  {
   "cell_type": "markdown",
   "metadata": {},
   "source": [
    "### (2) 计算每个栅格的阻力"
   ]
  },
  {
   "cell_type": "code",
   "execution_count": 183,
   "metadata": {},
   "outputs": [],
   "source": [
    "def b_theta1(arr_tif0, b, slope):\n",
    "    arr_tif = copy.deepcopy(arr_tif0)\n",
    "    [rows, cols] = arr_tif.shape \n",
    "    for i in range(rows - 1): \n",
    "        for j in range(cols-1): \n",
    "            if arr_tif[i, j] != -9999:\n",
    "                arr_tif[i, j] = (1-b[i, j])*(1+slope[i, j]**0.3)\n",
    "    return arr_tif\n",
    "def b_theta2(arr_tif0, b, slope):\n",
    "    arr_tif = copy.deepcopy(arr_tif0)\n",
    "    [rows, cols] = arr_tif.shape \n",
    "    for i in range(rows - 1): \n",
    "        for j in range(cols-1): \n",
    "            if arr_tif[i, j] != -9999:\n",
    "                if slope[i, j] != 0:\n",
    "                    arr_tif[i, j] = (1-0.1*b[i, j]*(1+0.1*slope[i, j]**0.3))\n",
    "                else:\n",
    "                    arr_tif[i, j] = (1-0.1*b[i, j])\n",
    "    return arr_tif\n",
    "b_th1 = b_theta1(bv_arr_1, b, slope)\n",
    "b_th2 = b_theta2(bv_arr_1, b, slope)"
   ]
  },
  {
   "cell_type": "code",
   "execution_count": 184,
   "metadata": {},
   "outputs": [],
   "source": [
    "def b_theta3(arr_tif0, b, slope):\n",
    "    arr_tif = copy.deepcopy(arr_tif0)\n",
    "    [rows, cols] = arr_tif.shape \n",
    "    for i in range(rows - 1): \n",
    "        for j in range(cols-1): \n",
    "            if arr_tif[i, j] != -9999:\n",
    "                if slope[i, j] != 0:\n",
    "                    arr_tif[i, j] = (1-0.06*b[i, j]*(1+0.1*slope[i, j]**0.3))\n",
    "                else:\n",
    "                    arr_tif[i, j] = (1-0.06*b[i, j])\n",
    "    return arr_tif\n",
    "b_th3 = b_theta3(bv_arr_1, b, slope)"
   ]
  },
  {
   "cell_type": "code",
   "execution_count": 185,
   "metadata": {},
   "outputs": [],
   "source": [
    "def b_theta4(arr_tif0, b, slope):\n",
    "    arr_tif = copy.deepcopy(arr_tif0)\n",
    "    [rows, cols] = arr_tif.shape \n",
    "    for i in range(rows - 1): \n",
    "        for j in range(cols-1): \n",
    "            if arr_tif[i, j] != -9999:\n",
    "                if slope[i, j] != 0:\n",
    "                    arr_tif[i, j] = (1-0.02*b[i, j]*(1+0.1*slope[i, j]**0.3))\n",
    "                else:\n",
    "                    arr_tif[i, j] = (1-0.02*b[i, j])\n",
    "    return arr_tif\n",
    "b_th4 = b_theta4(bv_arr_1, b, slope)"
   ]
  },
  {
   "cell_type": "code",
   "execution_count": 187,
   "metadata": {},
   "outputs": [
    {
     "data": {
      "text/plain": [
       "1.7119627088573688"
      ]
     },
     "execution_count": 187,
     "metadata": {},
     "output_type": "execute_result"
    }
   ],
   "source": [
    "b_th1[555,336]"
   ]
  },
  {
   "cell_type": "code",
   "execution_count": 188,
   "metadata": {},
   "outputs": [
    {
     "data": {
      "text/plain": [
       "0.9669198718589248"
      ]
     },
     "execution_count": 188,
     "metadata": {},
     "output_type": "execute_result"
    }
   ],
   "source": [
    "b_th2[555,336]"
   ]
  },
  {
   "cell_type": "code",
   "execution_count": 189,
   "metadata": {},
   "outputs": [
    {
     "data": {
      "text/plain": [
       "0.9801519231153548"
      ]
     },
     "execution_count": 189,
     "metadata": {},
     "output_type": "execute_result"
    }
   ],
   "source": [
    "b_th3[555,336]"
   ]
  },
  {
   "cell_type": "markdown",
   "metadata": {},
   "source": [
    "### (3) 计算阻力"
   ]
  },
  {
   "cell_type": "code",
   "execution_count": 190,
   "metadata": {},
   "outputs": [],
   "source": [
    "def rows_cols(ind, path_one):\n",
    "    rows = []\n",
    "    cols = []\n",
    "    if ind < len(path_one) - 2:\n",
    "        while ind < len(path_one) - 2:\n",
    "            rows += path_one[ind+1][0]\n",
    "            cols += path_one[ind+1][1]\n",
    "            ind +=1\n",
    "        return [rows,cols]\n",
    "    else:\n",
    "        print ('ind out of index of path_one')\n",
    "def bv_path(all_paths,reg_arr0,bv_arr0,b_th):\n",
    "    bv_arr = copy.deepcopy( bv_arr0)\n",
    "    reg_arr = copy.deepcopy(reg_arr0)\n",
    "    for i in range(0,len(path)-2):\n",
    "        ind_0 = path[i]\n",
    "        print(ind_0)\n",
    "        print(reg_arr[ind_0][0])\n",
    "        if reg_arr[ind_0][0] ==0:\n",
    "            ind_1 = rows_cols(i, path)\n",
    "            print(ind_1)\n",
    "            bv_arr[ind_0] = b_th[ind_1].prod()\n",
    "            reg_arr[ind_0] = 1\n",
    "        else:\n",
    "            break\n",
    "    return bv_arr\n",
    "def bv_paths(all_paths,reg_arr0,bv_arr0,b_th):\n",
    "    bv_arr = copy.deepcopy( bv_arr0)\n",
    "    reg_arr = copy.deepcopy(reg_arr0)\n",
    "    for path in all_paths:\n",
    "        for i in range(0,len(path)-2):\n",
    "            ind_0 = path[i]\n",
    "           # print(ind_0)\n",
    "            #print(reg_arr[ind_0][0])\n",
    "            if reg_arr[ind_0][0] ==0:\n",
    "                ind_1 = rows_cols(i, path)\n",
    "                #print(ind_1)\n",
    "                bv_arr[ind_0] = b_th[ind_1].prod()\n",
    "                reg_arr[ind_0] = 1\n",
    "            else:\n",
    "                break\n",
    "    return bv_arr"
   ]
  },
  {
   "cell_type": "code",
   "execution_count": 191,
   "metadata": {},
   "outputs": [],
   "source": [
    "bv_result1 = bv_paths(river_s,reg_arr,bv_arr,b_th1) #\n",
    "bv_result2 = bv_paths(river_s,reg_arr,bv_arr,b_th2) #"
   ]
  },
  {
   "cell_type": "code",
   "execution_count": 194,
   "metadata": {},
   "outputs": [],
   "source": [
    "bv_result3 = bv_paths(river_s,reg_arr,bv_arr,b_th3) #"
   ]
  },
  {
   "cell_type": "code",
   "execution_count": 195,
   "metadata": {},
   "outputs": [],
   "source": [
    "bv_result4 = bv_paths(river_s,reg_arr,bv_arr,b_th4) #"
   ]
  },
  {
   "cell_type": "code",
   "execution_count": 209,
   "metadata": {},
   "outputs": [
    {
     "data": {
      "text/plain": [
       "1.7119627088573688"
      ]
     },
     "execution_count": 209,
     "metadata": {},
     "output_type": "execute_result"
    }
   ],
   "source": [
    "bv_result1[556,335]"
   ]
  },
  {
   "cell_type": "code",
   "execution_count": 193,
   "metadata": {},
   "outputs": [
    {
     "data": {
      "text/plain": [
       "1.0"
      ]
     },
     "execution_count": 193,
     "metadata": {},
     "output_type": "execute_result"
    }
   ],
   "source": [
    "bv_result2[556,335]"
   ]
  },
  {
   "cell_type": "code",
   "execution_count": 74,
   "metadata": {},
   "outputs": [
    {
     "data": {
      "text/plain": [
       "1.0"
      ]
     },
     "execution_count": 74,
     "metadata": {},
     "output_type": "execute_result"
    }
   ],
   "source": [
    "bv_result3[556,335]"
   ]
  },
  {
   "cell_type": "code",
   "execution_count": 210,
   "metadata": {},
   "outputs": [
    {
     "data": {
      "text/plain": [
       "0.9933839743717849"
      ]
     },
     "execution_count": 210,
     "metadata": {},
     "output_type": "execute_result"
    }
   ],
   "source": [
    "bv_result4[556,335]"
   ]
  },
  {
   "cell_type": "code",
   "execution_count": 211,
   "metadata": {},
   "outputs": [],
   "source": [
    "np.savetxt('ASCII/bv_result_1.txt',bv_result1,fmt='%0.6f') # 没有前6行\n",
    "np.savetxt('ASCII/bv_result_2.txt',bv_result2,fmt='%0.6f') # 没有前6行\n",
    "np.savetxt('ASCII/bv_result_3.txt',bv_result3,fmt='%0.6f') # 没有前6行\n",
    "np.savetxt('ASCII/bv_result_4.txt',bv_result4,fmt='%0.6f') # 没有前6行"
   ]
  },
  {
   "cell_type": "code",
   "execution_count": 212,
   "metadata": {},
   "outputs": [],
   "source": [
    "add_begin('bv_result_1')\n",
    "add_begin('bv_result_2')\n",
    "add_begin('bv_result_3')\n",
    "add_begin('bv_result_4')"
   ]
  },
  {
   "cell_type": "code",
   "execution_count": 128,
   "metadata": {},
   "outputs": [
    {
     "data": {
      "text/plain": [
       "[[[5], [83]], [[6], [82]], [[7], [81]], [[7], [80]]]"
      ]
     },
     "execution_count": 128,
     "metadata": {},
     "output_type": "execute_result"
    }
   ],
   "source": [
    "all_paths[0]"
   ]
  },
  {
   "cell_type": "code",
   "execution_count": 127,
   "metadata": {},
   "outputs": [
    {
     "data": {
      "text/plain": [
       "[[6, 7], [82, 81]]"
      ]
     },
     "execution_count": 127,
     "metadata": {},
     "output_type": "execute_result"
    }
   ],
   "source": [
    "rows_cols(0, all_paths[0])"
   ]
  },
  {
   "cell_type": "code",
   "execution_count": 134,
   "metadata": {},
   "outputs": [
    {
     "data": {
      "text/plain": [
       "array([0.59206212, 0.60365505])"
      ]
     },
     "execution_count": 134,
     "metadata": {},
     "output_type": "execute_result"
    }
   ],
   "source": [
    "reg_arr[[6, 7], [82, 81]]"
   ]
  },
  {
   "cell_type": "markdown",
   "metadata": {},
   "source": [
    "### test 4"
   ]
  },
  {
   "cell_type": "code",
   "execution_count": 53,
   "metadata": {},
   "outputs": [
    {
     "data": {
      "text/plain": [
       "<matplotlib.figure.Figure at 0x21100eb5438>"
      ]
     },
     "metadata": {},
     "output_type": "display_data"
    }
   ],
   "source": [
    "import numpy as np\n",
    "\n",
    "import matplotlib.pyplot as plt\n",
    "\n",
    "x=np.linspace(-5,5,1000)  #这个表示在-5到5之间生成1000个x值\n",
    "\n",
    "y1=[i**2 for i in x]  #对上述生成的1000个数循环用sigmoid公式求对应的y\n",
    "\n",
    "plt.plot(x,y1)  #用上述生成的1000个xy值对生成1000个点\n",
    "\n",
    "plt.show()  #绘制图像"
   ]
  },
  {
   "cell_type": "markdown",
   "metadata": {},
   "source": [
    "## 6 动力乘阻力"
   ]
  },
  {
   "cell_type": "code",
   "execution_count": 5,
   "metadata": {},
   "outputs": [],
   "source": [
    "#动力结果\n",
    "pow_all_1 = np.loadtxt('ASCII/pow_all_1.txt',skiprows = 6)\n",
    "pow_all_2 = np.loadtxt('ASCII/pow_all_2.txt',skiprows = 6)"
   ]
  },
  {
   "cell_type": "code",
   "execution_count": 4,
   "metadata": {},
   "outputs": [],
   "source": [
    "#阻力结果\n",
    "bv_result1 = np.loadtxt('ASCII/bv_result_1.txt',skiprows = 6)\n",
    "bv_result2 = np.loadtxt('ASCII/bv_result_2.txt',skiprows = 6)\n",
    "bv_result3 = np.loadtxt('ASCII/bv_result_3.txt',skiprows = 6)\n",
    "bv_result4 = np.loadtxt('ASCII/bv_result_4.txt',skiprows = 6)"
   ]
  },
  {
   "cell_type": "code",
   "execution_count": 70,
   "metadata": {},
   "outputs": [
    {
     "data": {
      "text/plain": [
       "2.09044101267082"
      ]
     },
     "execution_count": 70,
     "metadata": {},
     "output_type": "execute_result"
    }
   ],
   "source": [
    "bv_result1[5,83]"
   ]
  },
  {
   "cell_type": "code",
   "execution_count": 71,
   "metadata": {},
   "outputs": [
    {
     "data": {
      "text/plain": [
       "0.8617877177023352"
      ]
     },
     "execution_count": 71,
     "metadata": {},
     "output_type": "execute_result"
    }
   ],
   "source": [
    "bv_result2[5,83]"
   ]
  },
  {
   "cell_type": "code",
   "execution_count": 47,
   "metadata": {},
   "outputs": [],
   "source": [
    "def del_99(arr_tif0,bounds,null_d):\n",
    "    '''初始化空值为null_d\n",
    "    '''\n",
    "    arr_tif = copy.deepcopy(arr_tif0)\n",
    "    for i in bounds: \n",
    "        for j in i: \n",
    "            arr_tif[j] = [null_d]\n",
    "    return arr_tif\n",
    "#del_99(fd,bound_s,0)\n",
    "def ini_tif(arr_tif0,d,jr,bounds,null_d):\n",
    "    '''初始化值为d\n",
    "    '''\n",
    "    arr_tif  = copy.deepcopy(arr_tif0) \n",
    "    [rows, cols] = arr_tif.shape \n",
    "    for i in range(rows - 1): \n",
    "        for j in range(cols-1): \n",
    "            if arr_tif[i, j] != -9999:\n",
    "                if jr[i, j] == 1:\n",
    "                    arr_tif[i, j] = null_d\n",
    "                else:\n",
    "                    arr_tif[i, j] = d\n",
    "    arr_tif1 = copy.deepcopy(arr_tif) \n",
    "    arr_tif2 = del_99(arr_tif1,bound_s,null_d)\n",
    "    return arr_tif2\n",
    "\n",
    "am_1 = ini_tif(fd,0,jr,bound_s,0)\n",
    "am_2 = ini_tif(fd,0,jr,bound_s,0)\n",
    "am_3 = ini_tif(fd,0,jr,bound_s,0)\n",
    "am_4 = ini_tif(fd,0,jr,bound_s,0)\n",
    "\n",
    "def mul(arr0,arr1,arr2,d):\n",
    "    arr0 = copy.deepcopy(arr0)\n",
    "    [rows, cols] = arr1.shape \n",
    "    for i in range(rows - 1): \n",
    "        for j in range(cols-1): \n",
    "            if arr1[i,j] != -9999:\n",
    "                if arr1[i,j] != -9999 or arr2[i,j] != -9999:\n",
    "                    arr0[i,j] = arr1[i,j]*arr2[i,j]\n",
    "                else:\n",
    "                    arr0[i,j] = d\n",
    "    return arr0"
   ]
  },
  {
   "cell_type": "code",
   "execution_count": 49,
   "metadata": {
    "scrolled": true
   },
   "outputs": [],
   "source": [
    "am1 = mul(am_1,pow_all_1,bv_result1,0)"
   ]
  },
  {
   "cell_type": "code",
   "execution_count": 50,
   "metadata": {},
   "outputs": [],
   "source": [
    "am2 = mul(am_2,pow_all_2,bv_result2,0)"
   ]
  },
  {
   "cell_type": "code",
   "execution_count": 51,
   "metadata": {},
   "outputs": [],
   "source": [
    "am3 = mul(am_3,pow_all_2,bv_result3,0)"
   ]
  },
  {
   "cell_type": "code",
   "execution_count": 52,
   "metadata": {},
   "outputs": [],
   "source": [
    "am4 = mul(am_4,pow_all_2,bv_result4,0)"
   ]
  },
  {
   "cell_type": "code",
   "execution_count": 53,
   "metadata": {},
   "outputs": [
    {
     "data": {
      "text/plain": [
       "3.934019"
      ]
     },
     "execution_count": 53,
     "metadata": {},
     "output_type": "execute_result"
    }
   ],
   "source": [
    "am1[555,336]"
   ]
  },
  {
   "cell_type": "code",
   "execution_count": 54,
   "metadata": {},
   "outputs": [
    {
     "data": {
      "text/plain": [
       "2.306095"
      ]
     },
     "execution_count": 54,
     "metadata": {},
     "output_type": "execute_result"
    }
   ],
   "source": [
    "am2[555,336]"
   ]
  },
  {
   "cell_type": "code",
   "execution_count": 55,
   "metadata": {},
   "outputs": [],
   "source": [
    "np.savetxt('ASCII/am1.txt',am1,fmt='%0.6f') # 没有前6行\n",
    "np.savetxt('ASCII/am2.txt',am2,fmt='%0.6f') # 没有前6行"
   ]
  },
  {
   "cell_type": "code",
   "execution_count": 56,
   "metadata": {},
   "outputs": [],
   "source": [
    "np.savetxt('ASCII/am3.txt',am3,fmt='%0.6f') # 没有前6行"
   ]
  },
  {
   "cell_type": "code",
   "execution_count": 57,
   "metadata": {},
   "outputs": [],
   "source": [
    "np.savetxt('ASCII/am4.txt',am4,fmt='%0.6f') # 没有前6行"
   ]
  },
  {
   "cell_type": "code",
   "execution_count": 58,
   "metadata": {},
   "outputs": [],
   "source": [
    "np.savetxt('ASCII/am1.txt',am1,fmt='%0.6f') # 没有前6行\n",
    "def add_begin(name):\n",
    "    with open('ASCII/begin.txt', 'r+') as f:\n",
    "        content = f.read() \n",
    "        with open('ASCII/{}.txt'.format(name), 'r+') as f:\n",
    "            content0 = f.read() \n",
    "            f.seek(0, 0)\n",
    "            f.write(content + '\\n' + content0)\n",
    "            f.close()\n",
    "        f.close()\n",
    "add_begin('am1')"
   ]
  },
  {
   "cell_type": "code",
   "execution_count": 59,
   "metadata": {},
   "outputs": [],
   "source": [
    "add_begin('am1')\n",
    "add_begin('am2')"
   ]
  },
  {
   "cell_type": "code",
   "execution_count": 60,
   "metadata": {},
   "outputs": [],
   "source": [
    "add_begin('am3')"
   ]
  },
  {
   "cell_type": "code",
   "execution_count": 61,
   "metadata": {},
   "outputs": [],
   "source": [
    "add_begin('am4')"
   ]
  },
  {
   "cell_type": "markdown",
   "metadata": {},
   "source": [
    "### test5 array"
   ]
  },
  {
   "cell_type": "code",
   "execution_count": 4,
   "metadata": {},
   "outputs": [],
   "source": [
    "a1=np.array([[1,2,3],[4,5,6],[7,8,9]])"
   ]
  },
  {
   "cell_type": "code",
   "execution_count": 5,
   "metadata": {},
   "outputs": [
    {
     "data": {
      "text/plain": [
       "array([[1, 2, 3],\n",
       "       [4, 5, 6],\n",
       "       [7, 8, 9]])"
      ]
     },
     "execution_count": 5,
     "metadata": {},
     "output_type": "execute_result"
    }
   ],
   "source": [
    "a1"
   ]
  },
  {
   "cell_type": "code",
   "execution_count": 32,
   "metadata": {},
   "outputs": [
    {
     "data": {
      "text/plain": [
       "array([[ 1,  4,  9],\n",
       "       [16, 25, 36],\n",
       "       [49, 64, 81]])"
      ]
     },
     "execution_count": 32,
     "metadata": {},
     "output_type": "execute_result"
    }
   ],
   "source": [
    "a1*a1"
   ]
  },
  {
   "cell_type": "markdown",
   "metadata": {},
   "source": [
    "### test6 追加文本"
   ]
  },
  {
   "cell_type": "code",
   "execution_count": 8,
   "metadata": {},
   "outputs": [],
   "source": [
    "np.savetxt('ASCII/am.txt',a1,fmt='%0.6f') # 没有前6行"
   ]
  },
  {
   "cell_type": "code",
   "execution_count": 9,
   "metadata": {},
   "outputs": [
    {
     "name": "stdout",
     "output_type": "stream",
     "text": [
      "1.000000 2.000000 3.000000\n",
      "4.000000 5.000000 6.000000\n",
      "7.000000 8.000000 9.000000\n",
      "\n"
     ]
    }
   ],
   "source": [
    "with open('ASCII/am.txt', 'r+') as f:\n",
    "    content = f.read() \n",
    "    print(content)\n",
    "    f.seek(0, 0)\n",
    "    f.write('writer:Fatsheep\\n'+content)\n",
    "    f.close()"
   ]
  },
  {
   "cell_type": "code",
   "execution_count": 53,
   "metadata": {},
   "outputs": [],
   "source": [
    "def add_begin(name):\n",
    "    with open('ASCII/begin.txt', 'r+') as f:\n",
    "        content = f.read() \n",
    "        with open('ASCII/{}.txt'.format(name), 'r+') as f:\n",
    "            content0 = f.read() \n",
    "            f.seek(0, 0)\n",
    "            f.write(content + '\\n' + content0)\n",
    "            f.close()\n",
    "        f.close()"
   ]
  },
  {
   "cell_type": "code",
   "execution_count": 56,
   "metadata": {},
   "outputs": [],
   "source": [
    "add_begin('am')"
   ]
  }
 ],
 "metadata": {
  "kernelspec": {
   "display_name": "Python 3",
   "language": "python",
   "name": "python3"
  },
  "language_info": {
   "codemirror_mode": {
    "name": "ipython",
    "version": 3
   },
   "file_extension": ".py",
   "mimetype": "text/x-python",
   "name": "python",
   "nbconvert_exporter": "python",
   "pygments_lexer": "ipython3",
   "version": "3.6.4"
  }
 },
 "nbformat": 4,
 "nbformat_minor": 2
}
