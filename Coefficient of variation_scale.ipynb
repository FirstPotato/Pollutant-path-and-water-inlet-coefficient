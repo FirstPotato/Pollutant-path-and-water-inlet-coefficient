{
 "cells": [
  {
   "cell_type": "code",
   "execution_count": 2,
   "metadata": {},
   "outputs": [],
   "source": [
    "#import os\n",
    "#from osgeo import gdal\n",
    "import numpy as np\n",
    "import math\n",
    "import json\n",
    "import copy\n",
    "#  jr,  judging whether the grid is in the river，is = 1, not = 0\n",
    "# flow_acc, the raster(converted to ASCII code) that shows the accumulated flow to each cell.\n"
   ]
  },
  {
   "cell_type": "code",
   "execution_count": 2,
   "metadata": {},
   "outputs": [],
   "source": [
    "def write_dict(variable,name):\n",
    "    ''' input: variable to write\n",
    "       inout: name, string file name\n",
    "        output: a txt named name.txt\n",
    "    '''\n",
    "    import json\n",
    "    js = json.dumps(variable)   \n",
    "    file = open('ASCII/{}.txt'.format(name), 'w')  \n",
    "    file.write(js)  \n",
    "    file.close()  \n",
    "#write_dict(all_paths_0,'all_paths_0')\n",
    "def read_dict(name):\n",
    "    ''' input: a txt name, filename to read\n",
    "    '''\n",
    "    file = open('ASCII/{}.txt'.format(name), 'r') \n",
    "    js = file.read()\n",
    "    dic = json.loads(js)   \n",
    "    return (dic)\n",
    "    file.close() \n",
    "# file=open('ASCII/all_paths.txt','w') \n",
    "# file.write(str(all_paths)); \n",
    "# file.close() "
   ]
  },
  {
   "cell_type": "code",
   "execution_count": null,
   "metadata": {},
   "outputs": [],
   "source": [
    "[rows, cols] = num.shape \n",
    "for i in range(rows - 1): \n",
    "    for j in range(cols-1): \n",
    "        print(num[i, j])"
   ]
  },
  {
   "cell_type": "markdown",
   "metadata": {},
   "source": [
    "### 1. am最大最小归一化"
   ]
  },
  {
   "cell_type": "code",
   "execution_count": 3,
   "metadata": {},
   "outputs": [],
   "source": [
    "am4 = np.loadtxt('ASCII/am4.txt',skiprows = 6)"
   ]
  },
  {
   "cell_type": "code",
   "execution_count": 4,
   "metadata": {},
   "outputs": [
    {
     "data": {
      "text/plain": [
       "8.184968"
      ]
     },
     "execution_count": 4,
     "metadata": {},
     "output_type": "execute_result"
    }
   ],
   "source": [
    "np.max(am4)"
   ]
  },
  {
   "cell_type": "code",
   "execution_count": 5,
   "metadata": {},
   "outputs": [
    {
     "data": {
      "text/plain": [
       "-9999.0"
      ]
     },
     "execution_count": 5,
     "metadata": {},
     "output_type": "execute_result"
    }
   ],
   "source": [
    "np.min(am4)"
   ]
  },
  {
   "cell_type": "code",
   "execution_count": 6,
   "metadata": {},
   "outputs": [
    {
     "data": {
      "text/plain": [
       "0.0"
      ]
     },
     "execution_count": 6,
     "metadata": {},
     "output_type": "execute_result"
    }
   ],
   "source": [
    "np.min(am4[np.where(am4!=-9999)])"
   ]
  },
  {
   "cell_type": "code",
   "execution_count": 7,
   "metadata": {},
   "outputs": [
    {
     "data": {
      "text/plain": [
       "8.184968"
      ]
     },
     "execution_count": 7,
     "metadata": {},
     "output_type": "execute_result"
    }
   ],
   "source": [
    "np.max(am4) - np.min(am4[np.where(am4!=-9999)])"
   ]
  },
  {
   "cell_type": "code",
   "execution_count": 8,
   "metadata": {},
   "outputs": [],
   "source": [
    "def scal(arr1):\n",
    "    '''归一化0-1\n",
    "    '''\n",
    "    arr2 = copy.deepcopy(arr1)\n",
    "    [rows, cols] = arr2.shape\n",
    "    min1 = np.min(arr1[np.where(arr1!=-9999)])\n",
    "    d = np.max(arr1) - np.min(arr1[np.where(arr1!=-9999)])\n",
    "    for i in range(rows - 1): \n",
    "        for j in range(cols-1): \n",
    "            if arr1 [i, j] != -9999:\n",
    "                 arr2[i, j] = (arr1[i, j] - min1)/d\n",
    "    return arr2"
   ]
  },
  {
   "cell_type": "code",
   "execution_count": 9,
   "metadata": {},
   "outputs": [],
   "source": [
    "am5 = scal(am4)"
   ]
  },
  {
   "cell_type": "code",
   "execution_count": 10,
   "metadata": {},
   "outputs": [
    {
     "data": {
      "text/plain": [
       "1.0"
      ]
     },
     "execution_count": 10,
     "metadata": {},
     "output_type": "execute_result"
    }
   ],
   "source": [
    "np.max(am5)"
   ]
  },
  {
   "cell_type": "code",
   "execution_count": 11,
   "metadata": {},
   "outputs": [
    {
     "data": {
      "text/plain": [
       "-9999.0"
      ]
     },
     "execution_count": 11,
     "metadata": {},
     "output_type": "execute_result"
    }
   ],
   "source": [
    "np.min(am5)"
   ]
  },
  {
   "cell_type": "code",
   "execution_count": 12,
   "metadata": {},
   "outputs": [
    {
     "data": {
      "text/plain": [
       "0.0"
      ]
     },
     "execution_count": 12,
     "metadata": {},
     "output_type": "execute_result"
    }
   ],
   "source": [
    "np.min(am5[np.where(am5!=-9999)])"
   ]
  },
  {
   "cell_type": "code",
   "execution_count": 14,
   "metadata": {},
   "outputs": [],
   "source": [
    "np.savetxt('ASCII/am5.txt',am5,fmt='%0.6f') # 没有前6行\n",
    "def add_begin(name):\n",
    "    with open('ASCII/begin.txt', 'r+') as f:\n",
    "        content = f.read() \n",
    "        with open('ASCII/{}.txt'.format(name), 'r+') as f:\n",
    "            content0 = f.read() \n",
    "            f.seek(0, 0)\n",
    "            f.write(content + '\\n' + content0)\n",
    "            f.close()\n",
    "        f.close()\n",
    "add_begin('am5')"
   ]
  },
  {
   "cell_type": "markdown",
   "metadata": {},
   "source": [
    "### 2. 系数k最大最小归一化"
   ]
  },
  {
   "cell_type": "code",
   "execution_count": 3,
   "metadata": {},
   "outputs": [],
   "source": [
    "k1 = np.loadtxt('ASCII/k_arr.txt',skiprows = 6)"
   ]
  },
  {
   "cell_type": "code",
   "execution_count": 4,
   "metadata": {},
   "outputs": [
    {
     "data": {
      "text/plain": [
       "79730.667898"
      ]
     },
     "execution_count": 4,
     "metadata": {},
     "output_type": "execute_result"
    }
   ],
   "source": [
    "np.max(k1)"
   ]
  },
  {
   "cell_type": "code",
   "execution_count": 5,
   "metadata": {},
   "outputs": [
    {
     "data": {
      "text/plain": [
       "-9999.0"
      ]
     },
     "execution_count": 5,
     "metadata": {},
     "output_type": "execute_result"
    }
   ],
   "source": [
    "np.min(k1)"
   ]
  },
  {
   "cell_type": "code",
   "execution_count": 6,
   "metadata": {},
   "outputs": [
    {
     "data": {
      "text/plain": [
       "0.0"
      ]
     },
     "execution_count": 6,
     "metadata": {},
     "output_type": "execute_result"
    }
   ],
   "source": [
    "np.min(k1[np.where(k1!=-9999)])"
   ]
  },
  {
   "cell_type": "code",
   "execution_count": 8,
   "metadata": {},
   "outputs": [],
   "source": [
    "def scal(arr1):\n",
    "    '''归一化0-1\n",
    "    '''\n",
    "    arr2 = copy.deepcopy(arr1)\n",
    "    [rows, cols] = arr2.shape\n",
    "    min1 = np.min(arr1[np.where(arr1!=-9999)])\n",
    "    d = np.max(arr1) - np.min(arr1[np.where(arr1!=-9999)])\n",
    "    for i in range(rows - 1): \n",
    "        for j in range(cols-1): \n",
    "            if arr1 [i, j] != -9999:\n",
    "                 arr2[i, j] = (arr1[i, j] - min1)/d\n",
    "    return arr2"
   ]
  },
  {
   "cell_type": "code",
   "execution_count": 9,
   "metadata": {},
   "outputs": [],
   "source": [
    "k2 = scal(k1)"
   ]
  },
  {
   "cell_type": "code",
   "execution_count": 10,
   "metadata": {},
   "outputs": [],
   "source": [
    "np.savetxt('ASCII/k2.txt',k2,fmt='%0.6f') # 没有前6行\n",
    "def add_begin(name):\n",
    "    with open('ASCII/begin.txt', 'r+') as f:\n",
    "        content = f.read() \n",
    "        with open('ASCII/{}.txt'.format(name), 'r+') as f:\n",
    "            content0 = f.read() \n",
    "            f.seek(0, 0)\n",
    "            f.write(content + '\\n' + content0)\n",
    "            f.close()\n",
    "        f.close()\n",
    "add_begin('k2')"
   ]
  }
 ],
 "metadata": {
  "kernelspec": {
   "display_name": "Python 3",
   "language": "python",
   "name": "python3"
  },
  "language_info": {
   "codemirror_mode": {
    "name": "ipython",
    "version": 3
   },
   "file_extension": ".py",
   "mimetype": "text/x-python",
   "name": "python",
   "nbconvert_exporter": "python",
   "pygments_lexer": "ipython3",
   "version": "3.6.4"
  }
 },
 "nbformat": 4,
 "nbformat_minor": 2
}
