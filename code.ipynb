{
 "cells": [
  {
   "cell_type": "code",
   "execution_count": 1,
   "metadata": {},
   "outputs": [],
   "source": [
    "#import os\n",
    "#from osgeo import gdal\n",
    "import numpy as np\n",
    "import math\n",
    "import json\n",
    "import copy\n",
    "#  jr,  judging whether the grid is in the river，is = 1, not = 0\n",
    "# flow_acc, the raster(converted to ASCII code) that shows the accumulated flow to each cell.\n"
   ]
  },
  {
   "cell_type": "markdown",
   "metadata": {},
   "source": [
    "## 1 读取txt到数组"
   ]
  },
  {
   "cell_type": "code",
   "execution_count": 2,
   "metadata": {},
   "outputs": [],
   "source": [
    "b = np.loadtxt('ASCII/b.txt',skiprows = 6)\n",
    "p = np.loadtxt('ASCII/p.txt',skiprows = 6)\n",
    "fd = np.loadtxt('ASCII/fd.txt',skiprows = 6)\n",
    "jr = np.loadtxt('ASCII/jr.txt',skiprows = 6)\n",
    "slope = np.loadtxt('ASCII/slope.txt',skiprows = 6)\n",
    "flow_acc = np.loadtxt('ASCII/flow_acc.txt',skiprows = 6)"
   ]
  },
  {
   "cell_type": "code",
   "execution_count": 3,
   "metadata": {},
   "outputs": [
    {
     "name": "stdout",
     "output_type": "stream",
     "text": [
      "-9999.0\n",
      "0.121975\n"
     ]
    }
   ],
   "source": [
    "print(max(b[np.where(fd == -9999)])) # = -9999\n",
    "print(min(b[np.where(fd != -9999)])) # != -9999"
   ]
  },
  {
   "cell_type": "code",
   "execution_count": 4,
   "metadata": {},
   "outputs": [
    {
     "name": "stdout",
     "output_type": "stream",
     "text": [
      "0.001131134\n",
      "0.0\n"
     ]
    }
   ],
   "source": [
    "print(max(p[np.where(fd == -9999)])) # = -9999\n",
    "print(min(p[np.where(fd != -9999)])) # != -9999"
   ]
  },
  {
   "cell_type": "code",
   "execution_count": 5,
   "metadata": {},
   "outputs": [
    {
     "name": "stdout",
     "output_type": "stream",
     "text": [
      "-9999.0\n",
      "0.0\n"
     ]
    }
   ],
   "source": [
    "print(max(jr[np.where(fd == -9999)])) # = -9999\n",
    "print(min(jr[np.where(fd != -9999)])) # != -9999"
   ]
  },
  {
   "cell_type": "code",
   "execution_count": 6,
   "metadata": {
    "scrolled": false
   },
   "outputs": [
    {
     "name": "stdout",
     "output_type": "stream",
     "text": [
      "-9999.0\n",
      "0.0\n"
     ]
    }
   ],
   "source": [
    "print(max(slope[np.where(fd == -9999)])) # = -9999\n",
    "print(min(slope[np.where(fd != -9999)])) # != -9999"
   ]
  },
  {
   "cell_type": "code",
   "execution_count": 7,
   "metadata": {},
   "outputs": [
    {
     "name": "stdout",
     "output_type": "stream",
     "text": [
      "-9999.0\n",
      "0.0\n"
     ]
    }
   ],
   "source": [
    "print(max(flow_acc[np.where(fd == -9999)])) # = -9999\n",
    "print(min(flow_acc[np.where(fd != -9999)])) # != -9999"
   ]
  },
  {
   "cell_type": "code",
   "execution_count": 16,
   "metadata": {},
   "outputs": [
    {
     "data": {
      "text/plain": [
       "(533, 489)"
      ]
     },
     "execution_count": 16,
     "metadata": {},
     "output_type": "execute_result"
    }
   ],
   "source": [
    "flow_acc.shape "
   ]
  },
  {
   "cell_type": "markdown",
   "metadata": {},
   "source": [
    "## 1.1 例子遍历数组"
   ]
  },
  {
   "cell_type": "raw",
   "metadata": {},
   "source": [
    "[rows, cols] = num.shape \n",
    "for i in range(rows): \n",
    "    for j in range(cols): \n",
    "        print(num[i, j])"
   ]
  },
  {
   "cell_type": "markdown",
   "metadata": {},
   "source": [
    "## 2 得到起点索引列表"
   ]
  },
  {
   "cell_type": "code",
   "execution_count": 80,
   "metadata": {},
   "outputs": [],
   "source": [
    "def origin_list(flow_acc, jr):\n",
    "    '''\n",
    "   output: A list of all starting points for all flow paths\n",
    "    '''\n",
    "    list_0 = []\n",
    "    [rows, cols] = flow_acc.shape \n",
    "    for i in range(rows): \n",
    "        for j in range(cols): \n",
    "            if flow_acc[i,j] == 0 and jr[i, j] == 0: #  jr[i, j] == 0 起点处于非河道\n",
    "                ori = tuple([[i],[j]]) # 起点非河道的行列好转元组\n",
    "                list_0.append(ori)\n",
    "    return list_0"
   ]
  },
  {
   "cell_type": "code",
   "execution_count": 81,
   "metadata": {},
   "outputs": [],
   "source": [
    "ori_list = origin_list(flow_acc,jr) # A list of all starting points for all flow paths"
   ]
  },
  {
   "cell_type": "code",
   "execution_count": 82,
   "metadata": {},
   "outputs": [
    {
     "name": "stdout",
     "output_type": "stream",
     "text": [
      "([1], [174])\n",
      "[0.]\n",
      "[0.]\n"
     ]
    }
   ],
   "source": [
    "print(ori_list[0])\n",
    "print(flow_acc[ori_list[0]])\n",
    "print(jr[ori_list[0]])"
   ]
  },
  {
   "cell_type": "code",
   "execution_count": 83,
   "metadata": {},
   "outputs": [
    {
     "data": {
      "text/plain": [
       "52521"
      ]
     },
     "execution_count": 83,
     "metadata": {},
     "output_type": "execute_result"
    }
   ],
   "source": [
    "len(ori_list)"
   ]
  },
  {
   "cell_type": "markdown",
   "metadata": {},
   "source": [
    "## 3 起点路径列表"
   ]
  },
  {
   "cell_type": "code",
   "execution_count": 109,
   "metadata": {},
   "outputs": [
    {
     "data": {
      "text/plain": [
       "[([1], [174]), ([1], [175])]"
      ]
     },
     "execution_count": 109,
     "metadata": {},
     "output_type": "execute_result"
    }
   ],
   "source": [
    "ori_list[0:2]"
   ]
  },
  {
   "cell_type": "code",
   "execution_count": 151,
   "metadata": {},
   "outputs": [],
   "source": [
    "def flow_path(ori, jr,fd):\n",
    "    '''\n",
    "   output:  lists of all path points for all flow paths\n",
    "    '''\n",
    "    list1 = []\n",
    "    row = ori[0][0]\n",
    "    col = ori[1][0]\n",
    "    while jr[row,col] != 1 and fd[row,col] != -9999:\n",
    "        if [row,col] not in list1:\n",
    "            path_0 = tuple([[row],[col]])\n",
    "            list1.append(path_0)\n",
    "            if fd[row,col] == 1:\n",
    "                col += 1\n",
    "            elif fd[row,col] == 2:\n",
    "                row += 1\n",
    "                col += 1\n",
    "            elif fd[row,col] == 4:\n",
    "                row += 1\n",
    "            elif fd[row,col] == 8:\n",
    "                row += 1\n",
    "                col -= 1\n",
    "            elif fd[row,col] == 16:\n",
    "                col -= 1\n",
    "            elif fd[row,col] == 32:\n",
    "                row -= 1\n",
    "                col -= 1\n",
    "            elif fd[row,col] == 64:\n",
    "                row -= 1\n",
    "            elif fd[row,col] == 128:\n",
    "                row -= 1\n",
    "                col += 1\n",
    "    path_1 = tuple([[row],[col]])  # 水体或流域出口的行列号，元组格式\n",
    "    list1.append(path_1) # 包含受内水体和流域出口\n",
    "    return list1\n",
    "\n",
    "# flow_path(ori_list[0], jr,fd)\n",
    "\n",
    "def river_paths(ori_list, jr,fd):\n",
    "    '''\n",
    "   output:  lists of all path points for all flow paths\n",
    "    '''\n",
    "    list0 = []\n",
    "    for ori in ori_list:\n",
    "        list1 = flow_path(ori, jr,fd)\n",
    "        if jr[list1[-1]][0] == 1:\n",
    "            list0.append(list1)\n",
    "    return list0\n",
    "# river_paths(ori_list, jr,fd))\n",
    "\n",
    "def bound_paths(ori_list, jr,fd):\n",
    "    '''\n",
    "   output:  lists of all path points for all flow paths\n",
    "    '''\n",
    "    list0 = []\n",
    "    for ori in ori_list:\n",
    "        list1 = flow_path(ori, jr,fd)\n",
    "        if jr[list1[-1]][0] == -9999:\n",
    "            list0.append(list1)\n",
    "    return list0"
   ]
  },
  {
   "cell_type": "code",
   "execution_count": 152,
   "metadata": {},
   "outputs": [],
   "source": [
    "river_s = river_paths(ori_list, jr,fd)"
   ]
  },
  {
   "cell_type": "code",
   "execution_count": 153,
   "metadata": {},
   "outputs": [],
   "source": [
    "bound_s = bound_paths(ori_list, jr,fd)"
   ]
  },
  {
   "cell_type": "code",
   "execution_count": 133,
   "metadata": {},
   "outputs": [
    {
     "name": "stdout",
     "output_type": "stream",
     "text": [
      "51136\n",
      "1385\n"
     ]
    }
   ],
   "source": [
    "print(len(river_s))\n",
    "print(len(bound_s))"
   ]
  },
  {
   "cell_type": "code",
   "execution_count": 158,
   "metadata": {},
   "outputs": [
    {
     "data": {
      "text/plain": [
       "[[([1], [174]),\n",
       "  ([2], [175]),\n",
       "  ([3], [176]),\n",
       "  ([4], [177]),\n",
       "  ([5], [178]),\n",
       "  ([5], [179]),\n",
       "  ([5], [180]),\n",
       "  ([6], [181]),\n",
       "  ([7], [182]),\n",
       "  ([8], [183]),\n",
       "  ([9], [183]),\n",
       "  ([10], [183]),\n",
       "  ([11], [183]),\n",
       "  ([12], [183]),\n",
       "  ([13], [183]),\n",
       "  ([14], [183]),\n",
       "  ([15], [182]),\n",
       "  ([16], [182]),\n",
       "  ([17], [182]),\n",
       "  ([18], [182]),\n",
       "  ([19], [183]),\n",
       "  ([20], [184]),\n",
       "  ([21], [185]),\n",
       "  ([22], [186]),\n",
       "  ([23], [186]),\n",
       "  ([24], [186]),\n",
       "  ([25], [187]),\n",
       "  ([26], [187]),\n",
       "  ([27], [187]),\n",
       "  ([28], [187]),\n",
       "  ([29], [186]),\n",
       "  ([30], [187]),\n",
       "  ([31], [187]),\n",
       "  ([32], [187]),\n",
       "  ([33], [187]),\n",
       "  ([34], [187]),\n",
       "  ([35], [186]),\n",
       "  ([36], [186]),\n",
       "  ([37], [186]),\n",
       "  ([38], [186]),\n",
       "  ([39], [187]),\n",
       "  ([40], [188]),\n",
       "  ([41], [189]),\n",
       "  ([42], [190]),\n",
       "  ([43], [190]),\n",
       "  ([44], [191]),\n",
       "  ([45], [191]),\n",
       "  ([46], [192]),\n",
       "  ([47], [193]),\n",
       "  ([48], [194]),\n",
       "  ([49], [195]),\n",
       "  ([50], [196]),\n",
       "  ([51], [197]),\n",
       "  ([52], [198]),\n",
       "  ([53], [199]),\n",
       "  ([54], [200]),\n",
       "  ([55], [201]),\n",
       "  ([56], [201]),\n",
       "  ([57], [202]),\n",
       "  ([58], [201]),\n",
       "  ([59], [201]),\n",
       "  ([60], [201]),\n",
       "  ([61], [201]),\n",
       "  ([62], [201]),\n",
       "  ([63], [200]),\n",
       "  ([64], [200]),\n",
       "  ([65], [200]),\n",
       "  ([66], [199]),\n",
       "  ([67], [200]),\n",
       "  ([68], [199]),\n",
       "  ([69], [198]),\n",
       "  ([70], [198]),\n",
       "  ([71], [198]),\n",
       "  ([72], [198]),\n",
       "  ([73], [198]),\n",
       "  ([74], [198]),\n",
       "  ([75], [198]),\n",
       "  ([76], [199]),\n",
       "  ([77], [200]),\n",
       "  ([78], [200]),\n",
       "  ([79], [200]),\n",
       "  ([80], [200]),\n",
       "  ([81], [200]),\n",
       "  ([82], [200]),\n",
       "  ([83], [200]),\n",
       "  ([84], [201]),\n",
       "  ([85], [202]),\n",
       "  ([86], [202]),\n",
       "  ([87], [202]),\n",
       "  ([88], [202]),\n",
       "  ([89], [202]),\n",
       "  ([90], [202]),\n",
       "  ([91], [202]),\n",
       "  ([92], [202]),\n",
       "  ([93], [202]),\n",
       "  ([94], [202]),\n",
       "  ([95], [202]),\n",
       "  ([96], [202]),\n",
       "  ([97], [202]),\n",
       "  ([98], [203]),\n",
       "  ([99], [203]),\n",
       "  ([100], [203]),\n",
       "  ([100], [204]),\n",
       "  ([101], [204]),\n",
       "  ([102], [204]),\n",
       "  ([103], [204]),\n",
       "  ([104], [203]),\n",
       "  ([105], [202]),\n",
       "  ([105], [201]),\n",
       "  ([106], [201]),\n",
       "  ([107], [200]),\n",
       "  ([108], [199]),\n",
       "  ([109], [199]),\n",
       "  ([110], [199]),\n",
       "  ([111], [199]),\n",
       "  ([112], [198]),\n",
       "  ([113], [197]),\n",
       "  ([114], [196]),\n",
       "  ([114], [195]),\n",
       "  ([115], [194]),\n",
       "  ([115], [193]),\n",
       "  ([115], [192]),\n",
       "  ([116], [192]),\n",
       "  ([117], [192]),\n",
       "  ([118], [192]),\n",
       "  ([119], [192]),\n",
       "  ([120], [192]),\n",
       "  ([121], [192]),\n",
       "  ([122], [192]),\n",
       "  ([123], [193]),\n",
       "  ([124], [194]),\n",
       "  ([125], [195]),\n",
       "  ([126], [196]),\n",
       "  ([127], [197]),\n",
       "  ([128], [198]),\n",
       "  ([129], [199]),\n",
       "  ([130], [200]),\n",
       "  ([131], [201]),\n",
       "  ([132], [202]),\n",
       "  ([133], [203]),\n",
       "  ([134], [204]),\n",
       "  ([135], [205]),\n",
       "  ([136], [206]),\n",
       "  ([137], [207]),\n",
       "  ([138], [208]),\n",
       "  ([139], [209]),\n",
       "  ([140], [210]),\n",
       "  ([141], [211]),\n",
       "  ([142], [212]),\n",
       "  ([143], [213]),\n",
       "  ([144], [214]),\n",
       "  ([145], [215]),\n",
       "  ([146], [216]),\n",
       "  ([147], [217]),\n",
       "  ([148], [218]),\n",
       "  ([149], [219]),\n",
       "  ([150], [220]),\n",
       "  ([151], [221])]]"
      ]
     },
     "execution_count": 158,
     "metadata": {},
     "output_type": "execute_result"
    }
   ],
   "source": [
    "river_s[0:1]"
   ]
  },
  {
   "cell_type": "code",
   "execution_count": 159,
   "metadata": {},
   "outputs": [
    {
     "data": {
      "text/plain": [
       "[[([1], [175]), ([0], [176])]]"
      ]
     },
     "execution_count": 159,
     "metadata": {},
     "output_type": "execute_result"
    }
   ],
   "source": [
    "bound_s[0:1]"
   ]
  },
  {
   "cell_type": "code",
   "execution_count": 160,
   "metadata": {},
   "outputs": [
    {
     "data": {
      "text/plain": [
       "array([1.])"
      ]
     },
     "execution_count": 160,
     "metadata": {},
     "output_type": "execute_result"
    }
   ],
   "source": [
    "jr[river_s[0][-1]] # 位于河道"
   ]
  },
  {
   "cell_type": "code",
   "execution_count": 137,
   "metadata": {},
   "outputs": [],
   "source": [
    "all_paths_0 = {'river_s': river_s, 'bound_s': bound_s}"
   ]
  },
  {
   "cell_type": "code",
   "execution_count": 3,
   "metadata": {},
   "outputs": [],
   "source": [
    "def write_dict(variable,name):\n",
    "    ''' input: variable to write\n",
    "       inout: name, string file name\n",
    "        output: a txt named name.txt\n",
    "    '''\n",
    "    import json\n",
    "    js = json.dumps(variable)   \n",
    "    file = open('ASCII/{}.txt'.format(name), 'w')  \n",
    "    file.write(js)  \n",
    "    file.close()  \n",
    "#write_dict(all_paths_0,'all_paths_0')\n",
    "def read_dict(name):\n",
    "    ''' input: a txt name, filename to read\n",
    "    '''\n",
    "    file = open('ASCII/{}.txt'.format(name), 'r') \n",
    "    js = file.read()\n",
    "    dic = json.loads(js)   \n",
    "    return (dic)\n",
    "    file.close() \n",
    "# file=open('ASCII/all_paths.txt','w') \n",
    "# file.write(str(all_paths)); \n",
    "# file.close() "
   ]
  },
  {
   "cell_type": "code",
   "execution_count": 139,
   "metadata": {},
   "outputs": [],
   "source": [
    "write_dict(all_paths_0,'all_paths_0')"
   ]
  },
  {
   "cell_type": "code",
   "execution_count": 4,
   "metadata": {},
   "outputs": [],
   "source": [
    "all_paths = read_dict('all_paths_0')"
   ]
  },
  {
   "cell_type": "code",
   "execution_count": 5,
   "metadata": {},
   "outputs": [],
   "source": [
    "river_s = all_paths['river_s']"
   ]
  },
  {
   "cell_type": "code",
   "execution_count": 6,
   "metadata": {},
   "outputs": [],
   "source": [
    "bound_s = all_paths['bound_s']"
   ]
  },
  {
   "cell_type": "code",
   "execution_count": 7,
   "metadata": {},
   "outputs": [
    {
     "data": {
      "text/plain": [
       "[[[1], [174]],\n",
       " [[2], [175]],\n",
       " [[3], [176]],\n",
       " [[4], [177]],\n",
       " [[5], [178]],\n",
       " [[5], [179]],\n",
       " [[5], [180]],\n",
       " [[6], [181]],\n",
       " [[7], [182]],\n",
       " [[8], [183]],\n",
       " [[9], [183]],\n",
       " [[10], [183]],\n",
       " [[11], [183]],\n",
       " [[12], [183]],\n",
       " [[13], [183]],\n",
       " [[14], [183]],\n",
       " [[15], [182]],\n",
       " [[16], [182]],\n",
       " [[17], [182]],\n",
       " [[18], [182]],\n",
       " [[19], [183]],\n",
       " [[20], [184]],\n",
       " [[21], [185]],\n",
       " [[22], [186]],\n",
       " [[23], [186]],\n",
       " [[24], [186]],\n",
       " [[25], [187]],\n",
       " [[26], [187]],\n",
       " [[27], [187]],\n",
       " [[28], [187]],\n",
       " [[29], [186]],\n",
       " [[30], [187]],\n",
       " [[31], [187]],\n",
       " [[32], [187]],\n",
       " [[33], [187]],\n",
       " [[34], [187]],\n",
       " [[35], [186]],\n",
       " [[36], [186]],\n",
       " [[37], [186]],\n",
       " [[38], [186]],\n",
       " [[39], [187]],\n",
       " [[40], [188]],\n",
       " [[41], [189]],\n",
       " [[42], [190]],\n",
       " [[43], [190]],\n",
       " [[44], [191]],\n",
       " [[45], [191]],\n",
       " [[46], [192]],\n",
       " [[47], [193]],\n",
       " [[48], [194]],\n",
       " [[49], [195]],\n",
       " [[50], [196]],\n",
       " [[51], [197]],\n",
       " [[52], [198]],\n",
       " [[53], [199]],\n",
       " [[54], [200]],\n",
       " [[55], [201]],\n",
       " [[56], [201]],\n",
       " [[57], [202]],\n",
       " [[58], [201]],\n",
       " [[59], [201]],\n",
       " [[60], [201]],\n",
       " [[61], [201]],\n",
       " [[62], [201]],\n",
       " [[63], [200]],\n",
       " [[64], [200]],\n",
       " [[65], [200]],\n",
       " [[66], [199]],\n",
       " [[67], [200]],\n",
       " [[68], [199]],\n",
       " [[69], [198]],\n",
       " [[70], [198]],\n",
       " [[71], [198]],\n",
       " [[72], [198]],\n",
       " [[73], [198]],\n",
       " [[74], [198]],\n",
       " [[75], [198]],\n",
       " [[76], [199]],\n",
       " [[77], [200]],\n",
       " [[78], [200]],\n",
       " [[79], [200]],\n",
       " [[80], [200]],\n",
       " [[81], [200]],\n",
       " [[82], [200]],\n",
       " [[83], [200]],\n",
       " [[84], [201]],\n",
       " [[85], [202]],\n",
       " [[86], [202]],\n",
       " [[87], [202]],\n",
       " [[88], [202]],\n",
       " [[89], [202]],\n",
       " [[90], [202]],\n",
       " [[91], [202]],\n",
       " [[92], [202]],\n",
       " [[93], [202]],\n",
       " [[94], [202]],\n",
       " [[95], [202]],\n",
       " [[96], [202]],\n",
       " [[97], [202]],\n",
       " [[98], [203]],\n",
       " [[99], [203]],\n",
       " [[100], [203]],\n",
       " [[100], [204]],\n",
       " [[101], [204]],\n",
       " [[102], [204]],\n",
       " [[103], [204]],\n",
       " [[104], [203]],\n",
       " [[105], [202]],\n",
       " [[105], [201]],\n",
       " [[106], [201]],\n",
       " [[107], [200]],\n",
       " [[108], [199]],\n",
       " [[109], [199]],\n",
       " [[110], [199]],\n",
       " [[111], [199]],\n",
       " [[112], [198]],\n",
       " [[113], [197]],\n",
       " [[114], [196]],\n",
       " [[114], [195]],\n",
       " [[115], [194]],\n",
       " [[115], [193]],\n",
       " [[115], [192]],\n",
       " [[116], [192]],\n",
       " [[117], [192]],\n",
       " [[118], [192]],\n",
       " [[119], [192]],\n",
       " [[120], [192]],\n",
       " [[121], [192]],\n",
       " [[122], [192]],\n",
       " [[123], [193]],\n",
       " [[124], [194]],\n",
       " [[125], [195]],\n",
       " [[126], [196]],\n",
       " [[127], [197]],\n",
       " [[128], [198]],\n",
       " [[129], [199]],\n",
       " [[130], [200]],\n",
       " [[131], [201]],\n",
       " [[132], [202]],\n",
       " [[133], [203]],\n",
       " [[134], [204]],\n",
       " [[135], [205]],\n",
       " [[136], [206]],\n",
       " [[137], [207]],\n",
       " [[138], [208]],\n",
       " [[139], [209]],\n",
       " [[140], [210]],\n",
       " [[141], [211]],\n",
       " [[142], [212]],\n",
       " [[143], [213]],\n",
       " [[144], [214]],\n",
       " [[145], [215]],\n",
       " [[146], [216]],\n",
       " [[147], [217]],\n",
       " [[148], [218]],\n",
       " [[149], [219]],\n",
       " [[150], [220]],\n",
       " [[151], [221]]]"
      ]
     },
     "execution_count": 7,
     "metadata": {},
     "output_type": "execute_result"
    }
   ],
   "source": [
    "river_s[0]"
   ]
  },
  {
   "cell_type": "markdown",
   "metadata": {},
   "source": [
    "## 4 计算动力作用\n",
    "(1) 初始化计算栅格非空值为1\n",
    "\n",
    "(2) 计算1+坡度的3次幂\n",
    "\n",
    "(3) 计算L\n",
    "\n",
    "(4) 计算pl\n",
    "\n",
    "(5) 计算最终结果"
   ]
  },
  {
   "cell_type": "code",
   "execution_count": 36,
   "metadata": {},
   "outputs": [],
   "source": [
    "def del_99(arr_tif0,bounds,null_d):\n",
    "    '''初始化空值为-9999\n",
    "    '''\n",
    "    arr_tif = copy.deepcopy(arr_tif0)\n",
    "    for i in bounds: \n",
    "        for j in i: \n",
    "            ind = tuple(j)\n",
    "            arr_tif[ind] = [null_d]\n",
    "    return arr_tif\n",
    "#del_99(fd,bound_s,0)\n",
    "def ini_tif(arr_tif0,d,jr,bounds,null_d):\n",
    "    '''初始化值为d\n",
    "    '''\n",
    "    arr_tif  = copy.deepcopy(arr_tif0) \n",
    "    [rows, cols] = arr_tif.shape \n",
    "    for i in range(rows): \n",
    "        for j in range(cols): \n",
    "            if arr_tif[i, j] != -9999:\n",
    "                if jr[i, j] == 1:\n",
    "                    arr_tif[i, j] = null_d\n",
    "                else:\n",
    "                    arr_tif[i, j] = d\n",
    "    arr_tif1 = copy.deepcopy(arr_tif) \n",
    "    arr_tif2 = del_99(arr_tif1,bound_s,null_d)\n",
    "    return arr_tif2\n",
    "\n",
    "pow_arr = ini_tif(fd,1,jr,bound_s,-9999)\n",
    "reg_arr = ini_tif(fd,0,jr,bound_s,-9999)"
   ]
  },
  {
   "cell_type": "code",
   "execution_count": 32,
   "metadata": {},
   "outputs": [
    {
     "name": "stdout",
     "output_type": "stream",
     "text": [
      "32.0\n",
      "1.0\n",
      "0.0\n"
     ]
    }
   ],
   "source": [
    "print(fd[390,488])\n",
    "print(pow_arr[390,488])\n",
    "print(reg_arr[512,256])"
   ]
  },
  {
   "cell_type": "code",
   "execution_count": 165,
   "metadata": {},
   "outputs": [],
   "source": [
    "# river_s[0]"
   ]
  },
  {
   "cell_type": "code",
   "execution_count": 189,
   "metadata": {},
   "outputs": [
    {
     "data": {
      "text/plain": [
       "([1], [174])"
      ]
     },
     "execution_count": 189,
     "metadata": {},
     "output_type": "execute_result"
    }
   ],
   "source": [
    "# distance_list(1, river_s[0])\n",
    "# rows_cols(1, river_s[0])\n",
    "# jr[[0,1],[1,2]]\n",
    "# pl_slope2(pow_arr,1, river_s[0],slope)\n",
    "tuple(river_s[0][0])\n",
    "# reg_arr[river_s[0]]"
   ]
  },
  {
   "cell_type": "code",
   "execution_count": 37,
   "metadata": {},
   "outputs": [],
   "source": [
    "def distance_list(ind, path_one):\n",
    "    '''input: ind,某河流路径的某索引位置\n",
    "      input: path_0, 某河流路径的位置列表\n",
    "      output: ind下游的所有距离\n",
    "    '''\n",
    "    list0 = []\n",
    "    if ind < len(path_one) - 2:\n",
    "        d = 0\n",
    "        while ind < len(path_one) - 2:\n",
    "            if abs(path_one[ind][0][0]- path_one[ind+1][0][0]) + abs(path_one[ind][1][0]- path_one[ind+1][1][0]) == 2:\n",
    "                d += math.sqrt(2)\n",
    "            else:\n",
    "                d += 1\n",
    "            list0.append(d)\n",
    "            ind +=1\n",
    "        return list0\n",
    "    else:\n",
    "        print ('ind out of index of path_one')\n",
    "# distance_list(1, river_s[0])\n",
    "\n",
    "def rows_cols(ind, path_one):\n",
    "    rows = []\n",
    "    cols = []\n",
    "    if ind < len(path_one) - 2:\n",
    "        while ind < len(path_one) - 2:\n",
    "            rows += path_one[ind+1][0]\n",
    "            cols += path_one[ind+1][1]\n",
    "            ind +=1\n",
    "        return [rows,cols]\n",
    "    else:\n",
    "        print ('ind out of index of path_one')\n",
    "# rows_cols(1, river_s[0])\n",
    "# [[3,4,150],[3,4,150]]\n",
    "\n",
    "def pl_slope(p_arr,ind, path_one,slope):\n",
    "    '''p_arr: 动力作用栅格\n",
    "    '''\n",
    "    row = path_one[ind][0][0]\n",
    "    col = path_one[ind][1][0]\n",
    "    theta = slope[row,col]\n",
    "    p_i = 0.5*p_arr[row,col] # 动力应小于1\n",
    "    list0 = distance_list(ind, path_one)\n",
    "    list1 = [pow(p_i,i)*(1+theta**0.3) for i in list0]\n",
    "    return list1\n",
    "# pl_slope(pow_arr,1, river_s[0],slope)\n",
    "# [1.2224826413270593,\n",
    "#  1.2224826413270593,\n",
    "#  1.2224826413270593,\n",
    "#     ...\n",
    "#     ...]\n",
    "def pl_slope2(p_arr,ind, path_one,slope):\n",
    "    row = path_one[ind][0][0]\n",
    "    col = path_one[ind][1][0]\n",
    "    theta = slope[row,col]\n",
    "    p_i = 0.5*p_arr[row,col] # 动力应小于1\n",
    "    list0 = distance_list(ind, path_one)\n",
    "    list1 = [pow(p_i,i)*(1+0.1*theta**0.3) for i in list0]\n",
    "    return list1\n",
    "# pl_slope2(pow_arr,1, river_s[0],slope)\n",
    "\n",
    "\n",
    "def pow_all1(pow_arr0,p_arr,slope,all_paths,reg_arr0):\n",
    "    pow_arr = copy.deepcopy(pow_arr0)\n",
    "    reg_arr = copy.deepcopy(reg_arr0)\n",
    "    for path in all_paths:\n",
    "#         print(path)\n",
    "#         print(len(path)-2)\n",
    "        for ind in range(len(path)-2):\n",
    "            ind_0 = tuple(path[ind])\n",
    "#             print(ind_0)\n",
    "            if reg_arr[ind_0][0] == 0:\n",
    "                pl_s = pl_slope(p_arr,ind, path,slope)\n",
    "#                 print(pl_s)\n",
    "                row_col = tuple(rows_cols(ind, path)) # 转为元组\n",
    "#                 print(row_col)\n",
    "                pow_arr[row_col] += pl_s \n",
    "#                 print(pow_arr[row_col])\n",
    "                reg_arr[ind_0] = 1\n",
    "            else:\n",
    "                break\n",
    "    return pow_arr\n",
    "#pow_result = pow_all(pow_arr,p,slope,all_paths)\n",
    "def pow_all2(pow_arr0,p_arr,slope,all_paths,reg_arr0):\n",
    "    pow_arr = copy.deepcopy(pow_arr0)\n",
    "    reg_arr = copy.deepcopy(reg_arr0)\n",
    "    for path in all_paths:\n",
    "#         print(path)\n",
    "#         print(len(path)-2)\n",
    "        for ind in range(len(path)-2):\n",
    "            ind_0 = tuple(path[ind])\n",
    "#             print(ind_0)\n",
    "            if reg_arr[ind_0][0] == 0:\n",
    "                pl_s = pl_slope2(p_arr,ind, path,slope)\n",
    "#                 print(pl_s)\n",
    "                row_col = tuple(rows_cols(ind, path)) # 转为元组\n",
    "#                 print(row_col)\n",
    "                pow_arr[row_col] += pl_s \n",
    "#                 print(pow_arr[row_col])\n",
    "                reg_arr[ind_0] = 1\n",
    "            else:\n",
    "                break\n",
    "    return pow_arr"
   ]
  },
  {
   "cell_type": "code",
   "execution_count": 38,
   "metadata": {},
   "outputs": [],
   "source": [
    "pow_result1 = pow_all1(pow_arr,p,slope,river_s,reg_arr) # 约3-8min"
   ]
  },
  {
   "cell_type": "code",
   "execution_count": 39,
   "metadata": {},
   "outputs": [],
   "source": [
    "pow_result2 = pow_all2(pow_arr,p,slope,river_s,reg_arr) # 约3-8min"
   ]
  },
  {
   "cell_type": "code",
   "execution_count": 40,
   "metadata": {},
   "outputs": [],
   "source": [
    "np.savetxt('ASCII/pow_all_1.txt',pow_result1,fmt='%0.6f') # 没有前6行"
   ]
  },
  {
   "cell_type": "code",
   "execution_count": 41,
   "metadata": {},
   "outputs": [],
   "source": [
    "np.savetxt('ASCII/pow_all_2.txt',pow_result2,fmt='%0.6f') # 没有前6行"
   ]
  },
  {
   "cell_type": "code",
   "execution_count": 42,
   "metadata": {},
   "outputs": [],
   "source": [
    "def add_begin(name):\n",
    "    with open('ASCII/begin.txt', 'r+') as f:\n",
    "        content = f.read() \n",
    "        with open('ASCII/{}.txt'.format(name), 'r+') as f:\n",
    "            content0 = f.read() \n",
    "            f.seek(0, 0)\n",
    "            f.write(content + '\\n' + content0)\n",
    "            f.close()\n",
    "        f.close()"
   ]
  },
  {
   "cell_type": "code",
   "execution_count": 43,
   "metadata": {},
   "outputs": [],
   "source": [
    "add_begin('pow_all_1')"
   ]
  },
  {
   "cell_type": "code",
   "execution_count": 44,
   "metadata": {},
   "outputs": [],
   "source": [
    "add_begin('pow_all_2')"
   ]
  },
  {
   "cell_type": "code",
   "execution_count": 79,
   "metadata": {},
   "outputs": [
    {
     "data": {
      "text/plain": [
       "1.0"
      ]
     },
     "execution_count": 79,
     "metadata": {},
     "output_type": "execute_result"
    }
   ],
   "source": [
    "pow_result1[245,256]"
   ]
  },
  {
   "cell_type": "code",
   "execution_count": 80,
   "metadata": {},
   "outputs": [
    {
     "data": {
      "text/plain": [
       "1.0"
      ]
     },
     "execution_count": 80,
     "metadata": {},
     "output_type": "execute_result"
    }
   ],
   "source": [
    "pow_result2[282,238]"
   ]
  },
  {
   "cell_type": "markdown",
   "metadata": {},
   "source": [
    "### test1 数学公式测试"
   ]
  },
  {
   "cell_type": "code",
   "execution_count": 2,
   "metadata": {},
   "outputs": [
    {
     "data": {
      "text/plain": [
       "8"
      ]
     },
     "execution_count": 2,
     "metadata": {},
     "output_type": "execute_result"
    }
   ],
   "source": [
    "pow(2,3)"
   ]
  },
  {
   "cell_type": "code",
   "execution_count": 48,
   "metadata": {},
   "outputs": [
    {
     "data": {
      "text/plain": [
       "8"
      ]
     },
     "execution_count": 48,
     "metadata": {},
     "output_type": "execute_result"
    }
   ],
   "source": [
    "2**3"
   ]
  },
  {
   "cell_type": "code",
   "execution_count": 25,
   "metadata": {},
   "outputs": [
    {
     "data": {
      "text/plain": [
       "1.4142135623730951"
      ]
     },
     "execution_count": 25,
     "metadata": {},
     "output_type": "execute_result"
    }
   ],
   "source": [
    "math.sqrt(2)"
   ]
  },
  {
   "cell_type": "code",
   "execution_count": 22,
   "metadata": {},
   "outputs": [
    {
     "data": {
      "text/plain": [
       "2"
      ]
     },
     "execution_count": 22,
     "metadata": {},
     "output_type": "execute_result"
    }
   ],
   "source": [
    "abs(-2)"
   ]
  },
  {
   "cell_type": "markdown",
   "metadata": {},
   "source": [
    "### test3 array 赋值"
   ]
  },
  {
   "cell_type": "code",
   "execution_count": 131,
   "metadata": {},
   "outputs": [
    {
     "name": "stdout",
     "output_type": "stream",
     "text": [
      "[[ 0  1  2  3  4  5  6  7  8]\n",
      " [ 9 10 11 12 13 14 15 16 17]\n",
      " [18 19 20 21 22 23 24 25 26]\n",
      " [27 28 29 30 31 32 33 34 35]\n",
      " [36 37 38 39 40 41 42 43 44]\n",
      " [45 46 47 48 49 50 51 52 53]\n",
      " [54 55 56 57 58 59 60 61 62]]\n",
      "[ 9 48 55 20]\n",
      "42\n",
      "[ 9 48 55 20]\n"
     ]
    }
   ],
   "source": [
    "arr = np.arange(63).reshape((7,9))\n",
    "print(arr)\n",
    "#ss = [[1,0], [5, 3]]\n",
    "#print(arr[ss])\n",
    "print(arr[[1, 5, 6, 2], [0, 3, 1, 2]])\n",
    "#arr[[1, 5, 6, 2], [0, 3, 1, 2]] += [0,1,2,3]\n",
    "#arr[[1, 5, 6, 2], [0, 3, 1, 2]] *= [0,1,2,3]\n",
    "#print(arr[[1,0], [5, 3]])\n",
    "print(arr[[1,0], [5, 3]].prod())\n",
    "print(arr[[1, 5, 6, 2], [0, 3, 1, 2]]) # 打印arr[1, 0]、arr[5, 3]，arr[7, 1]和arr[2, 2]"
   ]
  },
  {
   "cell_type": "markdown",
   "metadata": {},
   "source": [
    "## 5 计算阻力作用"
   ]
  },
  {
   "cell_type": "markdown",
   "metadata": {},
   "source": [
    "### (1) 初始化判断栅格"
   ]
  },
  {
   "cell_type": "code",
   "execution_count": 45,
   "metadata": {},
   "outputs": [],
   "source": [
    "def del_99(arr_tif0,bounds,null_d):\n",
    "    '''初始化空值为-9999\n",
    "    '''\n",
    "    arr_tif = copy.deepcopy(arr_tif0)\n",
    "    for i in bounds: \n",
    "        for j in i: \n",
    "            ind = tuple(j)\n",
    "            arr_tif[ind] = [null_d]\n",
    "    return arr_tif\n",
    "#del_99(fd,bound_s,0)\n",
    "def ini_tif(arr_tif0,d,jr,bounds,null_d):\n",
    "    '''初始化值为d\n",
    "    '''\n",
    "    arr_tif  = copy.deepcopy(arr_tif0) \n",
    "    [rows, cols] = arr_tif.shape \n",
    "    for i in range(rows): \n",
    "        for j in range(cols): \n",
    "            if arr_tif[i, j] != -9999:\n",
    "                if jr[i, j] == 1:\n",
    "                    arr_tif[i, j] = null_d\n",
    "                else:\n",
    "                    arr_tif[i, j] = d\n",
    "    arr_tif1 = copy.deepcopy(arr_tif) \n",
    "    arr_tif2 = del_99(arr_tif1,bound_s,null_d)\n",
    "    return arr_tif2\n",
    "\n",
    "reg_arr = ini_tif(fd,0,jr,bound_s,-9999) # if value == 0,需要计算\n",
    "bv_arr_1 = ini_tif(fd,1,jr,bound_s,-9999) # 乘\n",
    "bv_arr = ini_tif(fd,1,jr,bound_s,-9999)"
   ]
  },
  {
   "cell_type": "code",
   "execution_count": 46,
   "metadata": {},
   "outputs": [
    {
     "name": "stdout",
     "output_type": "stream",
     "text": [
      "0.0\n",
      "0.0\n",
      "1.0\n",
      "1.0\n"
     ]
    }
   ],
   "source": [
    "print(jr[390,488])\n",
    "print(reg_arr[390,488])\n",
    "print(bv_arr_1[390,488])\n",
    "print(bv_arr[512,256])"
   ]
  },
  {
   "cell_type": "markdown",
   "metadata": {},
   "source": [
    "### (2) 计算每个栅格的阻力"
   ]
  },
  {
   "cell_type": "code",
   "execution_count": 47,
   "metadata": {},
   "outputs": [],
   "source": [
    "def b_theta1(arr_tif0, b, slope):\n",
    "    arr_tif = copy.deepcopy(arr_tif0)\n",
    "    [rows, cols] = arr_tif.shape \n",
    "    for i in range(rows): \n",
    "        for j in range(cols): \n",
    "            if arr_tif[i, j] != -9999:\n",
    "                arr_tif[i, j] = (1-b[i, j])*(1+slope[i, j]**0.3)\n",
    "    return arr_tif\n",
    "def b_theta2(arr_tif0, b, slope):\n",
    "    arr_tif = copy.deepcopy(arr_tif0)\n",
    "    [rows, cols] = arr_tif.shape \n",
    "    for i in range(rows): \n",
    "        for j in range(cols): \n",
    "            if arr_tif[i, j] != -9999:\n",
    "                if slope[i, j] != 0:\n",
    "                    arr_tif[i, j] = (1-0.1*b[i, j]*(1+0.1*slope[i, j]**0.3))\n",
    "                else:\n",
    "                    arr_tif[i, j] = (1-0.1*b[i, j])\n",
    "    return arr_tif\n",
    "b_th1 = b_theta1(bv_arr_1, b, slope)\n",
    "b_th2 = b_theta2(bv_arr_1, b, slope)"
   ]
  },
  {
   "cell_type": "code",
   "execution_count": 48,
   "metadata": {},
   "outputs": [],
   "source": [
    "def b_theta3(arr_tif0, b, slope):\n",
    "    arr_tif = copy.deepcopy(arr_tif0)\n",
    "    [rows, cols] = arr_tif.shape \n",
    "    for i in range(rows): \n",
    "        for j in range(cols): \n",
    "            if arr_tif[i, j] != -9999:\n",
    "                if slope[i, j] != 0:\n",
    "                    arr_tif[i, j] = (1-0.06*b[i, j]*(1+0.1*slope[i, j]**0.3))\n",
    "                else:\n",
    "                    arr_tif[i, j] = (1-0.06*b[i, j])\n",
    "    return arr_tif\n",
    "b_th3 = b_theta3(bv_arr_1, b, slope)"
   ]
  },
  {
   "cell_type": "code",
   "execution_count": 49,
   "metadata": {},
   "outputs": [],
   "source": [
    "def b_theta4(arr_tif0, b, slope):\n",
    "    arr_tif = copy.deepcopy(arr_tif0)\n",
    "    [rows, cols] = arr_tif.shape \n",
    "    for i in range(rows): \n",
    "        for j in range(cols): \n",
    "            if arr_tif[i, j] != -9999:\n",
    "                if slope[i, j] != 0:\n",
    "                    arr_tif[i, j] = (1-0.02*b[i, j]*(1+0.1*slope[i, j]**0.3))\n",
    "                else:\n",
    "                    arr_tif[i, j] = (1-0.02*b[i, j])\n",
    "    return arr_tif\n",
    "b_th4 = b_theta4(bv_arr_1, b, slope)"
   ]
  },
  {
   "cell_type": "code",
   "execution_count": 50,
   "metadata": {},
   "outputs": [
    {
     "name": "stdout",
     "output_type": "stream",
     "text": [
      "3.308136854367154\n",
      "0.9878025\n",
      "0.9926815\n",
      "0.9975605\n",
      "(array([], dtype=int64), array([], dtype=int64))\n"
     ]
    }
   ],
   "source": [
    "print(np.max(b_th1))\n",
    "print(np.max(b_th2))\n",
    "print(np.max(b_th3))\n",
    "print(np.max(b_th4))\n",
    "print(np.where(b_th4 == 1))"
   ]
  },
  {
   "cell_type": "markdown",
   "metadata": {},
   "source": [
    "### (3) 计算阻力"
   ]
  },
  {
   "cell_type": "code",
   "execution_count": 23,
   "metadata": {},
   "outputs": [],
   "source": [
    "# river_s[0]"
   ]
  },
  {
   "cell_type": "code",
   "execution_count": 24,
   "metadata": {},
   "outputs": [],
   "source": [
    "# jr[river_s[0][-2]]"
   ]
  },
  {
   "cell_type": "code",
   "execution_count": 25,
   "metadata": {},
   "outputs": [],
   "source": [
    "# rows_cols(0, river_s[0])"
   ]
  },
  {
   "cell_type": "code",
   "execution_count": 51,
   "metadata": {},
   "outputs": [],
   "source": [
    "def rows_cols(ind, path_one):\n",
    "    rows = []\n",
    "    cols = []\n",
    "    if ind < len(path_one) - 2:\n",
    "        while ind < len(path_one) - 2:\n",
    "            rows += path_one[ind+1][0]\n",
    "            cols += path_one[ind+1][1]\n",
    "            ind +=1\n",
    "        return [rows,cols]\n",
    "    else:\n",
    "        print ('ind out of index of path_one')\n",
    "def bv_path(all_paths,reg_arr0,bv_arr0,b_th):\n",
    "    bv_arr = copy.deepcopy( bv_arr0)\n",
    "    reg_arr = copy.deepcopy(reg_arr0)\n",
    "    for i in range(0,len(path)-2):\n",
    "        ind_0 = tuple(path[i])\n",
    "        print(ind_0)\n",
    "        print(reg_arr[ind_0][0])\n",
    "        if reg_arr[ind_0][0] ==0:\n",
    "            ind_1 = tuple(rows_cols(i, path))\n",
    "            print(ind_1)\n",
    "            bv_arr[ind_0] = b_th[ind_1].prod()\n",
    "            reg_arr[ind_0] = 1\n",
    "        else:\n",
    "            break\n",
    "    return bv_arr\n",
    "def bv_paths(all_paths,reg_arr0,bv_arr0,b_th):\n",
    "    bv_arr = copy.deepcopy( bv_arr0)\n",
    "    reg_arr = copy.deepcopy(reg_arr0)\n",
    "    for path in all_paths: ##################################\n",
    "        for i in range(0,len(path)-2):\n",
    "            ind_0 = tuple(path[i])\n",
    "#             print(ind_0)\n",
    "#             print(reg_arr[ind_0][0])\n",
    "            if reg_arr[ind_0][0] ==0:\n",
    "                ind_1 = tuple(rows_cols(i, path))\n",
    "                #print(ind_1)\n",
    "                bv_arr[ind_0] = b_th[ind_1].prod()\n",
    "                reg_arr[ind_0] = 1\n",
    "            else:\n",
    "                break\n",
    "    return bv_arr"
   ]
  },
  {
   "cell_type": "code",
   "execution_count": 52,
   "metadata": {},
   "outputs": [],
   "source": [
    "bv_result1 = bv_paths(river_s,reg_arr,bv_arr,b_th1) #\n",
    "bv_result2 = bv_paths(river_s,reg_arr,bv_arr,b_th2) #"
   ]
  },
  {
   "cell_type": "code",
   "execution_count": 53,
   "metadata": {},
   "outputs": [],
   "source": [
    "bv_result3 = bv_paths(river_s,reg_arr,bv_arr,b_th3) #"
   ]
  },
  {
   "cell_type": "code",
   "execution_count": 54,
   "metadata": {},
   "outputs": [],
   "source": [
    "bv_result4 = bv_paths(river_s,reg_arr,bv_arr,b_th4) #"
   ]
  },
  {
   "cell_type": "code",
   "execution_count": 81,
   "metadata": {},
   "outputs": [
    {
     "name": "stdout",
     "output_type": "stream",
     "text": [
      "3.545584576241991e+38\n",
      "1.0\n",
      "1.0\n",
      "1.0\n"
     ]
    }
   ],
   "source": [
    "print(np.max(bv_result1))\n",
    "print(np.max(bv_result2))\n",
    "print(np.max(bv_result3))\n",
    "print(np.max(bv_result4))"
   ]
  },
  {
   "cell_type": "code",
   "execution_count": 30,
   "metadata": {},
   "outputs": [
    {
     "name": "stdout",
     "output_type": "stream",
     "text": [
      "0.9975605\n",
      "1.0\n"
     ]
    }
   ],
   "source": [
    "print(b_th4[150,220])\n",
    "print(bv_result4[150,220])"
   ]
  },
  {
   "cell_type": "code",
   "execution_count": 90,
   "metadata": {},
   "outputs": [
    {
     "name": "stdout",
     "output_type": "stream",
     "text": [
      "0.577\n",
      "15.17954\n",
      "0.9858503432255911\n",
      "0.0\n",
      "4.0\n",
      "1.0\n"
     ]
    }
   ],
   "source": [
    "print(b[2,183])\n",
    "print(slope[2,183])\n",
    "print(b_th4[2,183])\n",
    "print(jr[2,183])\n",
    "print(fd[2,183])\n",
    "print(bv_result4[2,183])"
   ]
  },
  {
   "cell_type": "code",
   "execution_count": null,
   "metadata": {},
   "outputs": [],
   "source": []
  },
  {
   "cell_type": "code",
   "execution_count": 85,
   "metadata": {},
   "outputs": [
    {
     "data": {
      "text/plain": [
       "0.9858503432255911"
      ]
     },
     "execution_count": 85,
     "metadata": {},
     "output_type": "execute_result"
    }
   ],
   "source": []
  },
  {
   "cell_type": "code",
   "execution_count": 84,
   "metadata": {},
   "outputs": [
    {
     "data": {
      "text/plain": [
       "0.0"
      ]
     },
     "execution_count": 84,
     "metadata": {},
     "output_type": "execute_result"
    }
   ],
   "source": [
    "jr[1,182]"
   ]
  },
  {
   "cell_type": "code",
   "execution_count": 25,
   "metadata": {},
   "outputs": [
    {
     "data": {
      "text/plain": [
       "1.0"
      ]
     },
     "execution_count": 25,
     "metadata": {},
     "output_type": "execute_result"
    }
   ],
   "source": [
    "bv_result4[390, 488]"
   ]
  },
  {
   "cell_type": "code",
   "execution_count": 26,
   "metadata": {},
   "outputs": [
    {
     "data": {
      "text/plain": [
       "1.0"
      ]
     },
     "execution_count": 26,
     "metadata": {},
     "output_type": "execute_result"
    }
   ],
   "source": [
    "b_th4[390, 488]"
   ]
  },
  {
   "cell_type": "code",
   "execution_count": 27,
   "metadata": {},
   "outputs": [
    {
     "data": {
      "text/plain": [
       "(array([], dtype=int64), array([], dtype=int64))"
      ]
     },
     "execution_count": 27,
     "metadata": {},
     "output_type": "execute_result"
    }
   ],
   "source": [
    "np.where(b_th4 > 1)"
   ]
  },
  {
   "cell_type": "code",
   "execution_count": 28,
   "metadata": {},
   "outputs": [
    {
     "data": {
      "text/plain": [
       "(array([], dtype=int64), array([], dtype=int64))"
      ]
     },
     "execution_count": 28,
     "metadata": {},
     "output_type": "execute_result"
    }
   ],
   "source": [
    "np.where(bv_result2 > 1)"
   ]
  },
  {
   "cell_type": "code",
   "execution_count": 55,
   "metadata": {},
   "outputs": [],
   "source": [
    "np.savetxt('ASCII/bv_result_1.txt',bv_result1,fmt='%0.6f') # 没有前6行\n",
    "np.savetxt('ASCII/bv_result_2.txt',bv_result2,fmt='%0.6f') # 没有前6行\n",
    "np.savetxt('ASCII/bv_result_3.txt',bv_result3,fmt='%0.6f') # 没有前6行\n",
    "np.savetxt('ASCII/bv_result_4.txt',bv_result4,fmt='%0.6f') # 没有前6行"
   ]
  },
  {
   "cell_type": "code",
   "execution_count": 56,
   "metadata": {},
   "outputs": [],
   "source": [
    "add_begin('bv_result_1')\n",
    "add_begin('bv_result_2')\n",
    "add_begin('bv_result_3')\n",
    "add_begin('bv_result_4')"
   ]
  },
  {
   "cell_type": "markdown",
   "metadata": {},
   "source": [
    "### test 4"
   ]
  },
  {
   "cell_type": "code",
   "execution_count": 53,
   "metadata": {},
   "outputs": [
    {
     "data": {
      "text/plain": [
       "<matplotlib.figure.Figure at 0x21100eb5438>"
      ]
     },
     "metadata": {},
     "output_type": "display_data"
    }
   ],
   "source": [
    "import numpy as np\n",
    "\n",
    "import matplotlib.pyplot as plt\n",
    "\n",
    "x=np.linspace(-5,5,1000)  #这个表示在-5到5之间生成1000个x值\n",
    "\n",
    "y1=[i**2 for i in x]  #对上述生成的1000个数循环用sigmoid公式求对应的y\n",
    "\n",
    "plt.plot(x,y1)  #用上述生成的1000个xy值对生成1000个点\n",
    "\n",
    "plt.show()  #绘制图像"
   ]
  },
  {
   "cell_type": "markdown",
   "metadata": {},
   "source": [
    "## 6 动力乘阻力"
   ]
  },
  {
   "cell_type": "code",
   "execution_count": 57,
   "metadata": {},
   "outputs": [],
   "source": [
    "#动力结果\n",
    "pow_all_1 = np.loadtxt('ASCII/pow_all_1.txt',skiprows = 6)\n",
    "pow_all_2 = np.loadtxt('ASCII/pow_all_2.txt',skiprows = 6)"
   ]
  },
  {
   "cell_type": "code",
   "execution_count": 58,
   "metadata": {},
   "outputs": [],
   "source": [
    "#阻力结果\n",
    "bv_result1 = np.loadtxt('ASCII/bv_result_1.txt',skiprows = 6)\n",
    "bv_result2 = np.loadtxt('ASCII/bv_result_2.txt',skiprows = 6)\n",
    "bv_result3 = np.loadtxt('ASCII/bv_result_3.txt',skiprows = 6)\n",
    "bv_result4 = np.loadtxt('ASCII/bv_result_4.txt',skiprows = 6)"
   ]
  },
  {
   "cell_type": "code",
   "execution_count": 44,
   "metadata": {},
   "outputs": [
    {
     "data": {
      "text/plain": [
       "1365.022537"
      ]
     },
     "execution_count": 44,
     "metadata": {},
     "output_type": "execute_result"
    }
   ],
   "source": [
    "np.max(pow_all_1)"
   ]
  },
  {
   "cell_type": "code",
   "execution_count": 45,
   "metadata": {},
   "outputs": [
    {
     "data": {
      "text/plain": [
       "835.881939"
      ]
     },
     "execution_count": 45,
     "metadata": {},
     "output_type": "execute_result"
    }
   ],
   "source": [
    "np.max(pow_all_2)"
   ]
  },
  {
   "cell_type": "code",
   "execution_count": 46,
   "metadata": {},
   "outputs": [
    {
     "data": {
      "text/plain": [
       "1.0"
      ]
     },
     "execution_count": 46,
     "metadata": {},
     "output_type": "execute_result"
    }
   ],
   "source": [
    "np.max(bv_result4)"
   ]
  },
  {
   "cell_type": "code",
   "execution_count": 47,
   "metadata": {},
   "outputs": [
    {
     "data": {
      "text/plain": [
       "25.058441"
      ]
     },
     "execution_count": 47,
     "metadata": {},
     "output_type": "execute_result"
    }
   ],
   "source": [
    "pow_all_1[512,256]"
   ]
  },
  {
   "cell_type": "code",
   "execution_count": 48,
   "metadata": {},
   "outputs": [
    {
     "data": {
      "text/plain": [
       "11.505845"
      ]
     },
     "execution_count": 48,
     "metadata": {},
     "output_type": "execute_result"
    }
   ],
   "source": [
    "pow_all_2[512,256]"
   ]
  },
  {
   "cell_type": "code",
   "execution_count": 49,
   "metadata": {},
   "outputs": [
    {
     "data": {
      "text/plain": [
       "433819937.998455"
      ]
     },
     "execution_count": 49,
     "metadata": {},
     "output_type": "execute_result"
    }
   ],
   "source": [
    "bv_result1[512,256]"
   ]
  },
  {
   "cell_type": "code",
   "execution_count": 50,
   "metadata": {},
   "outputs": [
    {
     "data": {
      "text/plain": [
       "0.078872"
      ]
     },
     "execution_count": 50,
     "metadata": {},
     "output_type": "execute_result"
    }
   ],
   "source": [
    "bv_result2[512,256]"
   ]
  },
  {
   "cell_type": "code",
   "execution_count": 51,
   "metadata": {},
   "outputs": [
    {
     "data": {
      "text/plain": [
       "0.219428"
      ]
     },
     "execution_count": 51,
     "metadata": {},
     "output_type": "execute_result"
    }
   ],
   "source": [
    "bv_result3[512,256]"
   ]
  },
  {
   "cell_type": "code",
   "execution_count": 52,
   "metadata": {},
   "outputs": [
    {
     "data": {
      "text/plain": [
       "0.604592"
      ]
     },
     "execution_count": 52,
     "metadata": {},
     "output_type": "execute_result"
    }
   ],
   "source": [
    "bv_result4[512,256]"
   ]
  },
  {
   "cell_type": "code",
   "execution_count": 75,
   "metadata": {},
   "outputs": [],
   "source": [
    "def del_99(arr_tif0,bounds,null_d):\n",
    "    '''初始化空值为-9999\n",
    "    '''\n",
    "    arr_tif = copy.deepcopy(arr_tif0)\n",
    "    for i in bounds: \n",
    "        for j in i: \n",
    "            ind = tuple(j)\n",
    "            arr_tif[ind] = [null_d]\n",
    "    return arr_tif\n",
    "#del_99(fd,bound_s,0)\n",
    "def ini_tif(arr_tif0,d,jr,bounds,null_d):\n",
    "    '''初始化值为d\n",
    "    '''\n",
    "    arr_tif  = copy.deepcopy(arr_tif0) \n",
    "    [rows, cols] = arr_tif.shape \n",
    "    for i in range(rows): \n",
    "        for j in range(cols): \n",
    "            if arr_tif[i, j] != -9999:\n",
    "                if jr[i, j] == 1:\n",
    "                    arr_tif[i, j] = null_d\n",
    "                else:\n",
    "                    arr_tif[i, j] = d\n",
    "    arr_tif1 = copy.deepcopy(arr_tif) \n",
    "    arr_tif2 = del_99(arr_tif1,bound_s,null_d)\n",
    "    return arr_tif2\n",
    "\n",
    "am_1 = ini_tif(fd,0,jr,bound_s,-9999)\n",
    "am_2 = ini_tif(fd,0,jr,bound_s,-9999)\n",
    "am_3 = ini_tif(fd,0,jr,bound_s,-9999)\n",
    "am_4 = ini_tif(fd,0,jr,bound_s,-9999)\n",
    "\n",
    "def mul(arr0,arr1,arr2,d):\n",
    "    arr0 = copy.deepcopy(arr0)\n",
    "    [rows, cols] = arr1.shape \n",
    "    for i in range(rows - 1): \n",
    "        for j in range(cols-1): \n",
    "            if arr1[i,j] != -9999:\n",
    "                if arr1[i,j] != -9999 or arr2[i,j] != -9999:\n",
    "                    arr0[i,j] = arr1[i,j]*arr2[i,j]\n",
    "                else:\n",
    "                    arr0[i,j] = d\n",
    "    return arr0"
   ]
  },
  {
   "cell_type": "code",
   "execution_count": 76,
   "metadata": {
    "scrolled": true
   },
   "outputs": [],
   "source": [
    "am1 = mul(am_1,pow_all_2,bv_result1,0)"
   ]
  },
  {
   "cell_type": "code",
   "execution_count": 77,
   "metadata": {},
   "outputs": [
    {
     "data": {
      "text/plain": [
       "436283167.60641026"
      ]
     },
     "execution_count": 77,
     "metadata": {},
     "output_type": "execute_result"
    }
   ],
   "source": [
    "am1[512,256]"
   ]
  },
  {
   "cell_type": "code",
   "execution_count": 78,
   "metadata": {},
   "outputs": [],
   "source": [
    "am2 = mul(am_2,pow_all_2,bv_result2,0)"
   ]
  },
  {
   "cell_type": "code",
   "execution_count": 79,
   "metadata": {},
   "outputs": [
    {
     "data": {
      "text/plain": [
       "0.079319835216"
      ]
     },
     "execution_count": 79,
     "metadata": {},
     "output_type": "execute_result"
    }
   ],
   "source": [
    "am2[512,256]"
   ]
  },
  {
   "cell_type": "code",
   "execution_count": 80,
   "metadata": {},
   "outputs": [],
   "source": [
    "am3 = mul(am_3,pow_all_2,bv_result3,0)"
   ]
  },
  {
   "cell_type": "code",
   "execution_count": 81,
   "metadata": {},
   "outputs": [
    {
     "data": {
      "text/plain": [
       "0.22067391218400004"
      ]
     },
     "execution_count": 81,
     "metadata": {},
     "output_type": "execute_result"
    }
   ],
   "source": [
    "am3[512,256]"
   ]
  },
  {
   "cell_type": "code",
   "execution_count": 82,
   "metadata": {},
   "outputs": [],
   "source": [
    "am4 = mul(am_4,pow_all_2,bv_result4,0)"
   ]
  },
  {
   "cell_type": "code",
   "execution_count": 83,
   "metadata": {},
   "outputs": [
    {
     "data": {
      "text/plain": [
       "0.6080248733760001"
      ]
     },
     "execution_count": 83,
     "metadata": {},
     "output_type": "execute_result"
    }
   ],
   "source": [
    "am4[512,256]"
   ]
  },
  {
   "cell_type": "code",
   "execution_count": 84,
   "metadata": {},
   "outputs": [],
   "source": [
    "np.savetxt('ASCII/am1.txt',am1,fmt='%0.6f') # 没有前6行\n",
    "np.savetxt('ASCII/am2.txt',am2,fmt='%0.6f') # 没有前6行"
   ]
  },
  {
   "cell_type": "code",
   "execution_count": 85,
   "metadata": {},
   "outputs": [],
   "source": [
    "np.savetxt('ASCII/am3.txt',am3,fmt='%0.6f') # 没有前6行"
   ]
  },
  {
   "cell_type": "code",
   "execution_count": 86,
   "metadata": {},
   "outputs": [],
   "source": [
    "np.savetxt('ASCII/am4.txt',am4,fmt='%0.6f') # 没有前6行"
   ]
  },
  {
   "cell_type": "code",
   "execution_count": 87,
   "metadata": {},
   "outputs": [],
   "source": [
    "def add_begin(name):\n",
    "    with open('ASCII/begin.txt', 'r+') as f:\n",
    "        content = f.read() \n",
    "        with open('ASCII/{}.txt'.format(name), 'r+') as f:\n",
    "            content0 = f.read() \n",
    "            f.seek(0, 0)\n",
    "            f.write(content + '\\n' + content0)\n",
    "            f.close()\n",
    "        f.close()"
   ]
  },
  {
   "cell_type": "code",
   "execution_count": 88,
   "metadata": {},
   "outputs": [],
   "source": [
    "add_begin('am1')\n",
    "add_begin('am2')"
   ]
  },
  {
   "cell_type": "code",
   "execution_count": 89,
   "metadata": {},
   "outputs": [],
   "source": [
    "add_begin('am3')"
   ]
  },
  {
   "cell_type": "code",
   "execution_count": 90,
   "metadata": {},
   "outputs": [],
   "source": [
    "add_begin('am4')"
   ]
  },
  {
   "cell_type": "markdown",
   "metadata": {},
   "source": [
    "### test5 array"
   ]
  },
  {
   "cell_type": "code",
   "execution_count": 4,
   "metadata": {},
   "outputs": [],
   "source": [
    "a1=np.array([[1,2,3],[4,5,6],[7,8,9]])"
   ]
  },
  {
   "cell_type": "code",
   "execution_count": 5,
   "metadata": {},
   "outputs": [
    {
     "data": {
      "text/plain": [
       "array([[1, 2, 3],\n",
       "       [4, 5, 6],\n",
       "       [7, 8, 9]])"
      ]
     },
     "execution_count": 5,
     "metadata": {},
     "output_type": "execute_result"
    }
   ],
   "source": [
    "a1"
   ]
  },
  {
   "cell_type": "code",
   "execution_count": 32,
   "metadata": {},
   "outputs": [
    {
     "data": {
      "text/plain": [
       "array([[ 1,  4,  9],\n",
       "       [16, 25, 36],\n",
       "       [49, 64, 81]])"
      ]
     },
     "execution_count": 32,
     "metadata": {},
     "output_type": "execute_result"
    }
   ],
   "source": [
    "a1*a1"
   ]
  },
  {
   "cell_type": "markdown",
   "metadata": {},
   "source": [
    "### test6 追加文本"
   ]
  },
  {
   "cell_type": "code",
   "execution_count": 8,
   "metadata": {},
   "outputs": [],
   "source": [
    "np.savetxt('ASCII/am.txt',a1,fmt='%0.6f') # 没有前6行"
   ]
  },
  {
   "cell_type": "code",
   "execution_count": 9,
   "metadata": {},
   "outputs": [
    {
     "name": "stdout",
     "output_type": "stream",
     "text": [
      "1.000000 2.000000 3.000000\n",
      "4.000000 5.000000 6.000000\n",
      "7.000000 8.000000 9.000000\n",
      "\n"
     ]
    }
   ],
   "source": [
    "with open('ASCII/am.txt', 'r+') as f:\n",
    "    content = f.read() \n",
    "    print(content)\n",
    "    f.seek(0, 0)\n",
    "    f.write('writer:Fatsheep\\n'+content)\n",
    "    f.close()"
   ]
  },
  {
   "cell_type": "code",
   "execution_count": 53,
   "metadata": {},
   "outputs": [],
   "source": [
    "def add_begin(name):\n",
    "    with open('ASCII/begin.txt', 'r+') as f:\n",
    "        content = f.read() \n",
    "        with open('ASCII/{}.txt'.format(name), 'r+') as f:\n",
    "            content0 = f.read() \n",
    "            f.seek(0, 0)\n",
    "            f.write(content + '\\n' + content0)\n",
    "            f.close()\n",
    "        f.close()"
   ]
  },
  {
   "cell_type": "code",
   "execution_count": 56,
   "metadata": {},
   "outputs": [],
   "source": [
    "add_begin('am')"
   ]
  }
 ],
 "metadata": {
  "kernelspec": {
   "display_name": "Python 3",
   "language": "python",
   "name": "python3"
  },
  "language_info": {
   "codemirror_mode": {
    "name": "ipython",
    "version": 3
   },
   "file_extension": ".py",
   "mimetype": "text/x-python",
   "name": "python",
   "nbconvert_exporter": "python",
   "pygments_lexer": "ipython3",
   "version": "3.7.3"
  }
 },
 "nbformat": 4,
 "nbformat_minor": 2
}
